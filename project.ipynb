{
 "cells": [
  {
   "cell_type": "markdown",
   "metadata": {},
   "source": [
    "# Fundamentals of Data Analysis Project\n",
    "\n",
    "**Kevin O'Leary**\n",
    "\n",
    "***"
   ]
  },
  {
   "cell_type": "markdown",
   "metadata": {},
   "source": [
    "## **Introduction to Dataset**\n",
    "\n",
    "The Fischers Iris dataset was made by famous by statistician Ronald Fischer when he used it in his 1936 paper \"The use of multiple measurements in taxonomic problems\". However, it was actually compiled before this by Edgar Anderson, a botanist who was examining the variation within the Iris flower.\n",
    "\n",
    "The 1936 paper was proposing 'Fishers linear discriminant' which today is known as linear discriminant analysis. This is a method used in statistics to find a combination of features that can best seperate the data into distinct classes.\n",
    "\n",
    "The dataset is hosted on the UCI Machine Learning Repository. It consists of 3 classes of iris;\n",
    "\n",
    "<img src=\"https://github.com/Kevin002023/pands-project/blob/main/images/iris-image.png\">\n",
    "- The image above shows the 3 classes of iris in this data set.\n",
    "\n",
    "It is a multivariate dataset containing information on 150 specimens of iris. There are 5 attributes recorded for each specimen. [These are as follows](https://archive.ics.uci.edu/ml/datasets/iris) :\n",
    "\n",
    "1. sepal length in cm\n",
    "2. sepal width in cm\n",
    "3. petal length in cm\n",
    "4. petal width in cm\n",
    "5. class:\n",
    "- Iris Setosa\n",
    "- Iris Versicolour\n",
    "- Iris Virginica\n",
    "\n",
    "Fischer used this information to identify a method of distinguishing between the classes of iris's. It has since been used as a benchmark dataset for machine learning algorithms."
   ]
  },
  {
   "cell_type": "markdown",
   "metadata": {},
   "source": [
    "## **Project Outline**"
   ]
  },
  {
   "cell_type": "markdown",
   "metadata": {},
   "source": [
    "***\n",
    "\n",
    "## End"
   ]
  }
 ],
 "metadata": {
  "kernelspec": {
   "display_name": "base",
   "language": "python",
   "name": "python3"
  },
  "language_info": {
   "codemirror_mode": {
    "name": "ipython",
    "version": 3
   },
   "file_extension": ".py",
   "mimetype": "text/x-python",
   "name": "python",
   "nbconvert_exporter": "python",
   "pygments_lexer": "ipython3",
   "version": "3.11.5"
  }
 },
 "nbformat": 4,
 "nbformat_minor": 2
}
