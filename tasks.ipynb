{
 "cells": [
  {
   "cell_type": "markdown",
   "metadata": {},
   "source": [
    "# Fundamentals Of Data Analysis - Tasks\n",
    "\n",
    "**Kevin O'Leary**\n",
    "\n",
    "***"
   ]
  },
  {
   "cell_type": "markdown",
   "metadata": {},
   "source": [
    "## Task 1 - Collatz Function\n",
    "\n",
    ">Verify, using Python, that the Collatz conjecture is true for the first 10,000 positive integers."
   ]
  },
  {
   "cell_type": "code",
   "execution_count": 73,
   "metadata": {},
   "outputs": [],
   "source": [
    "def f(x):\n",
    "  #If x is even, divide it by two.\n",
    "  if x % 2 == 0:\n",
    "    return x // 2\n",
    "  else:\n",
    "    return (3 * x) + 1"
   ]
  },
  {
   "cell_type": "code",
   "execution_count": 74,
   "metadata": {},
   "outputs": [],
   "source": [
    "conjecture_success = []  # If the conjecture works \"True\" will be added to this list. If it fails \"False\" will. This way we  \n",
    "                         # can check it works without printing out all sequences. "
   ]
  },
  {
   "cell_type": "code",
   "execution_count": 75,
   "metadata": {},
   "outputs": [],
   "source": [
    "def collatz(x):\n",
    "  while x != 1:          # if we run x as 1 it will get caught in a loop. we want it to stop when x = 1,   \n",
    "                         # as the conjecture is then true for that value\n",
    "    \n",
    "    #print(x, end=', ')  # this would print out each digit in the sequence for each value which is un-neccessary.  \n",
    "                         # We just need to know if its true.\n",
    "    x=f(x)\n",
    "  \n",
    "  if x == 1: \n",
    "    conjecture_success.append(\"True\")     # if the last value of x is 1, then it conforms to the collatz conjecture  \n",
    "                                          # and the result \"True\" is added to our list. \n",
    "  elif x != 1:       \n",
    "    conjecture_success.append(\"False\")    # if the last value of x isnt 1, then it has failed the collatz conjecture  \n",
    "                                          # and the result \"False\" is added to our list.\n",
    "      \n",
    "  "
   ]
  },
  {
   "cell_type": "code",
   "execution_count": 76,
   "metadata": {},
   "outputs": [],
   "source": [
    "x = 1\n",
    "while x <= 10000:  #  a while loop running the collatz function for all values 1-10,000\n",
    "  collatz(x)\n",
    "  x += 1\n"
   ]
  },
  {
   "cell_type": "code",
   "execution_count": 77,
   "metadata": {},
   "outputs": [
    {
     "name": "stdout",
     "output_type": "stream",
     "text": [
      "Conjecture is true for all values up to 10,000\n"
     ]
    }
   ],
   "source": [
    "if \"False\" in conjecture_success:\n",
    "  print(\"The conjecture has been disproven\")\n",
    "else:\n",
    "  print(\"Conjecture is true for all values up to 10,000\")\n"
   ]
  },
  {
   "cell_type": "markdown",
   "metadata": {},
   "source": [
    "## Task 2 - Penguin Dataset \n",
    "\n",
    ">Summary of the Penguin Database and suggest variables that could be used to model it"
   ]
  },
  {
   "cell_type": "markdown",
   "metadata": {},
   "source": [
    "**Summary**\n",
    "\n",
    "The penguins dataset was collected by Dr Kristen Gorman at the Palmer Station in Antartica. it contains information about different species of penguins at the Palmer Archipeligo. It is commonly used to demonstrate various data analyses and machine learning techniques. "
   ]
  },
  {
   "cell_type": "code",
   "execution_count": 78,
   "metadata": {},
   "outputs": [],
   "source": [
    "import seaborn as sb\n",
    "#Seaborn is a Data Visualisation Library. It contains a number of datasets including penguins.csv. "
   ]
  },
  {
   "cell_type": "code",
   "execution_count": 79,
   "metadata": {},
   "outputs": [],
   "source": [
    "import pandas as pd\n"
   ]
  },
  {
   "cell_type": "code",
   "execution_count": 80,
   "metadata": {},
   "outputs": [
    {
     "data": {
      "text/plain": [
       "['anagrams',\n",
       " 'anscombe',\n",
       " 'attention',\n",
       " 'brain_networks',\n",
       " 'car_crashes',\n",
       " 'diamonds',\n",
       " 'dots',\n",
       " 'dowjones',\n",
       " 'exercise',\n",
       " 'flights',\n",
       " 'fmri',\n",
       " 'geyser',\n",
       " 'glue',\n",
       " 'healthexp',\n",
       " 'iris',\n",
       " 'mpg',\n",
       " 'penguins',\n",
       " 'planets',\n",
       " 'seaice',\n",
       " 'taxis',\n",
       " 'tips',\n",
       " 'titanic']"
      ]
     },
     "execution_count": 80,
     "metadata": {},
     "output_type": "execute_result"
    }
   ],
   "source": [
    "sb.get_dataset_names()\n",
    "\n",
    "# Returns a list of all datasets within Seaborn"
   ]
  },
  {
   "cell_type": "code",
   "execution_count": 81,
   "metadata": {},
   "outputs": [],
   "source": [
    "df = sb.load_dataset('penguins')\n",
    "\n",
    "# loads the penguins dataset. \n",
    "# ref: https://seaborn.pydata.org/tutorial/introduction.html"
   ]
  },
  {
   "cell_type": "code",
   "execution_count": 82,
   "metadata": {},
   "outputs": [
    {
     "data": {
      "text/plain": [
       "(344, 7)"
      ]
     },
     "execution_count": 82,
     "metadata": {},
     "output_type": "execute_result"
    }
   ],
   "source": [
    "df.shape\n",
    "\n",
    "# displays how many rows/columns there are."
   ]
  },
  {
   "cell_type": "markdown",
   "metadata": {},
   "source": [
    "The dataframe is made up of 7 columns and 344 rows"
   ]
  },
  {
   "cell_type": "code",
   "execution_count": 83,
   "metadata": {},
   "outputs": [
    {
     "data": {
      "text/html": [
       "<div>\n",
       "<style scoped>\n",
       "    .dataframe tbody tr th:only-of-type {\n",
       "        vertical-align: middle;\n",
       "    }\n",
       "\n",
       "    .dataframe tbody tr th {\n",
       "        vertical-align: top;\n",
       "    }\n",
       "\n",
       "    .dataframe thead th {\n",
       "        text-align: right;\n",
       "    }\n",
       "</style>\n",
       "<table border=\"1\" class=\"dataframe\">\n",
       "  <thead>\n",
       "    <tr style=\"text-align: right;\">\n",
       "      <th></th>\n",
       "      <th>species</th>\n",
       "      <th>island</th>\n",
       "      <th>bill_length_mm</th>\n",
       "      <th>bill_depth_mm</th>\n",
       "      <th>flipper_length_mm</th>\n",
       "      <th>body_mass_g</th>\n",
       "      <th>sex</th>\n",
       "    </tr>\n",
       "  </thead>\n",
       "  <tbody>\n",
       "    <tr>\n",
       "      <th>0</th>\n",
       "      <td>Adelie</td>\n",
       "      <td>Torgersen</td>\n",
       "      <td>39.1</td>\n",
       "      <td>18.7</td>\n",
       "      <td>181.0</td>\n",
       "      <td>3750.0</td>\n",
       "      <td>Male</td>\n",
       "    </tr>\n",
       "    <tr>\n",
       "      <th>1</th>\n",
       "      <td>Adelie</td>\n",
       "      <td>Torgersen</td>\n",
       "      <td>39.5</td>\n",
       "      <td>17.4</td>\n",
       "      <td>186.0</td>\n",
       "      <td>3800.0</td>\n",
       "      <td>Female</td>\n",
       "    </tr>\n",
       "    <tr>\n",
       "      <th>2</th>\n",
       "      <td>Adelie</td>\n",
       "      <td>Torgersen</td>\n",
       "      <td>40.3</td>\n",
       "      <td>18.0</td>\n",
       "      <td>195.0</td>\n",
       "      <td>3250.0</td>\n",
       "      <td>Female</td>\n",
       "    </tr>\n",
       "    <tr>\n",
       "      <th>3</th>\n",
       "      <td>Adelie</td>\n",
       "      <td>Torgersen</td>\n",
       "      <td>NaN</td>\n",
       "      <td>NaN</td>\n",
       "      <td>NaN</td>\n",
       "      <td>NaN</td>\n",
       "      <td>NaN</td>\n",
       "    </tr>\n",
       "    <tr>\n",
       "      <th>4</th>\n",
       "      <td>Adelie</td>\n",
       "      <td>Torgersen</td>\n",
       "      <td>36.7</td>\n",
       "      <td>19.3</td>\n",
       "      <td>193.0</td>\n",
       "      <td>3450.0</td>\n",
       "      <td>Female</td>\n",
       "    </tr>\n",
       "  </tbody>\n",
       "</table>\n",
       "</div>"
      ],
      "text/plain": [
       "  species     island  bill_length_mm  bill_depth_mm  flipper_length_mm  \\\n",
       "0  Adelie  Torgersen            39.1           18.7              181.0   \n",
       "1  Adelie  Torgersen            39.5           17.4              186.0   \n",
       "2  Adelie  Torgersen            40.3           18.0              195.0   \n",
       "3  Adelie  Torgersen             NaN            NaN                NaN   \n",
       "4  Adelie  Torgersen            36.7           19.3              193.0   \n",
       "\n",
       "   body_mass_g     sex  \n",
       "0       3750.0    Male  \n",
       "1       3800.0  Female  \n",
       "2       3250.0  Female  \n",
       "3          NaN     NaN  \n",
       "4       3450.0  Female  "
      ]
     },
     "execution_count": 83,
     "metadata": {},
     "output_type": "execute_result"
    }
   ],
   "source": [
    "df.head()\n",
    "\n",
    "# Initial look at the dataset to ensure its what we were looking for. The head function allows you to see the first 5 rows in the dataframe"
   ]
  },
  {
   "cell_type": "markdown",
   "metadata": {},
   "source": [
    "From looking at the above we can see the dataframe is made up for 7 columns of different variables. Species, Island of Origin, Bill Length (mm), Bill Depth (mm), Flipper Length (mm), body mass (g) and Sex"
   ]
  },
  {
   "cell_type": "code",
   "execution_count": 84,
   "metadata": {},
   "outputs": [
    {
     "name": "stdout",
     "output_type": "stream",
     "text": [
      "<class 'pandas.core.frame.DataFrame'>\n",
      "RangeIndex: 344 entries, 0 to 343\n",
      "Data columns (total 7 columns):\n",
      " #   Column             Non-Null Count  Dtype  \n",
      "---  ------             --------------  -----  \n",
      " 0   species            344 non-null    object \n",
      " 1   island             344 non-null    object \n",
      " 2   bill_length_mm     342 non-null    float64\n",
      " 3   bill_depth_mm      342 non-null    float64\n",
      " 4   flipper_length_mm  342 non-null    float64\n",
      " 5   body_mass_g        342 non-null    float64\n",
      " 6   sex                333 non-null    object \n",
      "dtypes: float64(4), object(3)\n",
      "memory usage: 18.9+ KB\n"
     ]
    }
   ],
   "source": [
    "df.info()"
   ]
  },
  {
   "cell_type": "code",
   "execution_count": 85,
   "metadata": {},
   "outputs": [
    {
     "data": {
      "text/plain": [
       "species               object\n",
       "island                object\n",
       "bill_length_mm       float64\n",
       "bill_depth_mm        float64\n",
       "flipper_length_mm    float64\n",
       "body_mass_g          float64\n",
       "sex                   object\n",
       "dtype: object"
      ]
     },
     "execution_count": 85,
     "metadata": {},
     "output_type": "execute_result"
    }
   ],
   "source": [
    "df.dtypes"
   ]
  },
  {
   "cell_type": "markdown",
   "metadata": {},
   "source": [
    "Pandas classification of datatypes is a little different to Python. In Python we have the datatypes; int, float, string and bool. However in Pandas int is classified as 'int64', float as 'float64', a string as 'object' and bool remains the same. \n",
    "\n",
    "Based on the above, 'species', 'island' and 'sex are strings in Python and object in pandas. The other columns that contain measurements area all floats in Python and float64 in Pandas. This is what we would expect based on the contents of the columns above. \n",
    "\n",
    "Ref: https://pbpython.com/pandas_dtypes.html"
   ]
  },
  {
   "cell_type": "markdown",
   "metadata": {},
   "source": [
    "# Task 3 - Probability Distribution\n",
    "\n",
    ">For each of the variables in the penguins data set, suggest what probability distribution from the numpy random distributions list\n",
    "is the most appropriate to model the variable."
   ]
  },
  {
   "cell_type": "markdown",
   "metadata": {},
   "source": [
    "> The easiest manner to determine the underlying distribution is by visually inspecting the random variable(s) using a histogram. \n",
    "\n",
    "ref: https://towardsdatascience.com/how-to-find-the-best-theoretical-distribution-for-your-data-a26e5673b4bd\n"
   ]
  },
  {
   "cell_type": "code",
   "execution_count": 86,
   "metadata": {},
   "outputs": [],
   "source": [
    "import matplotlib.pyplot as plt"
   ]
  },
  {
   "cell_type": "code",
   "execution_count": null,
   "metadata": {},
   "outputs": [],
   "source": []
  },
  {
   "cell_type": "code",
   "execution_count": 87,
   "metadata": {},
   "outputs": [],
   "source": [
    "species = df['species']\n",
    "island = df['island']\n",
    "bill_len = df['bill_length_mm']\n",
    "bill_depth = df['bill_depth_mm']\n",
    "flip_len = df['flipper_length_mm']\n",
    "body_mass = df['body_mass_g']\n",
    "sex = df['sex']"
   ]
  },
  {
   "cell_type": "code",
   "execution_count": 94,
   "metadata": {},
   "outputs": [
    {
     "data": {
      "text/plain": [
       "Text(0.5, 0, 'Species)')"
      ]
     },
     "execution_count": 94,
     "metadata": {},
     "output_type": "execute_result"
    },
    {
     "data": {
      "image/png": "[encoded data removed]",
      "text/plain": [
       "<Figure size 640x480 with 1 Axes>"
      ]
     },
     "metadata": {},
     "output_type": "display_data"
    }
   ],
   "source": [
    "plt.hist(species)\n",
    "plt.ylabel(\"Number of Penguins\")\n",
    "plt.xlabel(\"Species\")"
   ]
  },
  {
   "cell_type": "code",
   "execution_count": 95,
   "metadata": {},
   "outputs": [
    {
     "data": {
      "text/plain": [
       "Text(0.5, 0, 'Island)')"
      ]
     },
     "execution_count": 95,
     "metadata": {},
     "output_type": "execute_result"
    },
    {
     "data": {
      "image/png": "[encoded data removed]",
      "text/plain": [
       "<Figure size 640x480 with 1 Axes>"
      ]
     },
     "metadata": {},
     "output_type": "display_data"
    }
   ],
   "source": [
    "plt.hist(island)\n",
    "plt.ylabel(\"Number of Penguins\")\n",
    "plt.xlabel(\"Island of Origin\")"
   ]
  },
  {
   "cell_type": "markdown",
   "metadata": {},
   "source": [
    "Create a histogram with 19 binsfor each variable.  [To assign a correct number of bins](https://www.qimacros.com/histogram-excel/how-to-determine-histogram-bin-interval/), we need to find the square root of the number of data points (344) and round it up. \n",
    "\n",
    "$\\sqrt{344}$ = 18.55"
   ]
  },
  {
   "cell_type": "code",
   "execution_count": 96,
   "metadata": {},
   "outputs": [
    {
     "data": {
      "text/plain": [
       "Text(0.5, 0, 'Number of Penguins)')"
      ]
     },
     "execution_count": 96,
     "metadata": {},
     "output_type": "execute_result"
    },
    {
     "data": {
      "image/png": "[encoded data removed]",
      "text/plain": [
       "<Figure size 640x480 with 1 Axes>"
      ]
     },
     "metadata": {},
     "output_type": "display_data"
    }
   ],
   "source": [
    "plt.hist(bill_len, 19)\n",
    "plt.ylabel(\"Length of Bill (mm)\")\n",
    "plt.xlabel(\"Number of Penguins\")\n",
    "\n"
   ]
  },
  {
   "cell_type": "code",
   "execution_count": 91,
   "metadata": {},
   "outputs": [
    {
     "data": {
      "text/plain": [
       "(array([ 6., 15., 20., 18., 22., 13., 19., 19., 20., 30., 25., 28., 33.,\n",
       "        27., 18., 13.,  6.,  4.,  6.]),\n",
       " array([13.1       , 13.54210526, 13.98421053, 14.42631579, 14.86842105,\n",
       "        15.31052632, 15.75263158, 16.19473684, 16.63684211, 17.07894737,\n",
       "        17.52105263, 17.96315789, 18.40526316, 18.84736842, 19.28947368,\n",
       "        19.73157895, 20.17368421, 20.61578947, 21.05789474, 21.5       ]),\n",
       " <BarContainer object of 19 artists>)"
      ]
     },
     "execution_count": 91,
     "metadata": {},
     "output_type": "execute_result"
    },
    {
     "data": {
      "image/png": "[encoded data removed]",
      "text/plain": [
       "<Figure size 640x480 with 1 Axes>"
      ]
     },
     "metadata": {},
     "output_type": "display_data"
    }
   ],
   "source": [
    "plt.hist(bill_depth, 19)\n",
    "plt.ylabel(\"Depth of Bill (mm)\")\n",
    "plt.xlabel(\"Number of Penguins\")\n"
   ]
  },
  {
   "cell_type": "code",
   "execution_count": 92,
   "metadata": {},
   "outputs": [
    {
     "data": {
      "text/plain": [
       "(array([ 2.,  5., 13., 12., 32., 35., 35., 32., 24., 19.,  4., 15., 23.,\n",
       "        24., 19., 18., 11.,  5., 14.]),\n",
       " array([172.        , 175.10526316, 178.21052632, 181.31578947,\n",
       "        184.42105263, 187.52631579, 190.63157895, 193.73684211,\n",
       "        196.84210526, 199.94736842, 203.05263158, 206.15789474,\n",
       "        209.26315789, 212.36842105, 215.47368421, 218.57894737,\n",
       "        221.68421053, 224.78947368, 227.89473684, 231.        ]),\n",
       " <BarContainer object of 19 artists>)"
      ]
     },
     "execution_count": 92,
     "metadata": {},
     "output_type": "execute_result"
    },
    {
     "data": {
      "image/png": "[encoded data removed]",
      "text/plain": [
       "<Figure size 640x480 with 1 Axes>"
      ]
     },
     "metadata": {},
     "output_type": "display_data"
    }
   ],
   "source": [
    "plt.hist(flip_len, 19)\n",
    "plt.ylabel(\"Length of Flipper (mm)\")\n",
    "plt.xlabel(\"Number of Penguins\")"
   ]
  },
  {
   "cell_type": "code",
   "execution_count": 93,
   "metadata": {},
   "outputs": [
    {
     "data": {
      "text/plain": [
       "(array([ 3., 13., 17., 35., 30., 44., 28., 23., 25., 12., 28., 16., 15.,\n",
       "        14., 11., 16.,  6.,  5.,  1.]),\n",
       " array([2700.        , 2889.47368421, 3078.94736842, 3268.42105263,\n",
       "        3457.89473684, 3647.36842105, 3836.84210526, 4026.31578947,\n",
       "        4215.78947368, 4405.26315789, 4594.73684211, 4784.21052632,\n",
       "        4973.68421053, 5163.15789474, 5352.63157895, 5542.10526316,\n",
       "        5731.57894737, 5921.05263158, 6110.52631579, 6300.        ]),\n",
       " <BarContainer object of 19 artists>)"
      ]
     },
     "execution_count": 93,
     "metadata": {},
     "output_type": "execute_result"
    },
    {
     "data": {
      "image/png": "[encoded data removed]",
      "text/plain": [
       "<Figure size 640x480 with 1 Axes>"
      ]
     },
     "metadata": {},
     "output_type": "display_data"
    }
   ],
   "source": [
    "plt.hist(body_mass, 19)\n",
    "plt.ylabel(\"Mass of Body(g)\")\n",
    "plt.xlabel(\"Number of Penguins\")"
   ]
  },
  {
   "cell_type": "code",
   "execution_count": null,
   "metadata": {},
   "outputs": [],
   "source": []
  },
  {
   "cell_type": "code",
   "execution_count": null,
   "metadata": {},
   "outputs": [],
   "source": []
  },
  {
   "cell_type": "markdown",
   "metadata": {},
   "source": [
    "the distribution of the continuous variables doesn't fit a distribution. this could be becasue these variables differ based on species. Perhaps we should seperate them by species and then plot them. "
   ]
  },
  {
   "cell_type": "code",
   "execution_count": null,
   "metadata": {},
   "outputs": [],
   "source": []
  },
  {
   "cell_type": "markdown",
   "metadata": {},
   "source": [
    "***\n",
    "\n",
    "## End"
   ]
  }
 ],
 "metadata": {
  "kernelspec": {
   "display_name": "base",
   "language": "python",
   "name": "python3"
  },
  "language_info": {
   "codemirror_mode": {
    "name": "ipython",
    "version": 3
   },
   "file_extension": ".py",
   "mimetype": "text/x-python",
   "name": "python",
   "nbconvert_exporter": "python",
   "pygments_lexer": "ipython3",
   "version": "3.11.5"
  }
 },
 "nbformat": 4,
 "nbformat_minor": 2
}
