{
 "cells": [
  {
   "cell_type": "markdown",
   "metadata": {},
   "source": [
    "# Fundamentals Of Data Analysis - Tasks\n",
    "\n",
    "**Kevin O'Leary**\n",
    "\n",
    "***"
   ]
  },
  {
   "cell_type": "markdown",
   "metadata": {},
   "source": [
    "## Task 1 - Collatz Function\n",
    "\n",
    ">Verify, using Python, that the Collatz conjecture is true for the first 10,000 positive integers."
   ]
  },
  {
   "cell_type": "code",
   "execution_count": null,
   "metadata": {},
   "outputs": [],
   "source": [
    "def f(x):\n",
    "  #If x is even, divide it by two.\n",
    "  if x % 2 == 0:\n",
    "    return x // 2\n",
    "  else:\n",
    "    return (3 * x) + 1"
   ]
  },
  {
   "cell_type": "code",
   "execution_count": null,
   "metadata": {},
   "outputs": [],
   "source": [
    "conjecture_success = []  # If the conjecture works \"True\" will be added to this list. If it fails \"False\" will. This way we  \n",
    "                         # can check it works without printing out all sequences. "
   ]
  },
  {
   "cell_type": "code",
   "execution_count": null,
   "metadata": {},
   "outputs": [],
   "source": [
    "def collatz(x):\n",
    "  while x != 1:          # if we run x as 1 it will get caught in a loop. we want it to stop when x = 1,   \n",
    "                         # as the conjecture is then true for that value\n",
    "    #print(x, end=', ')  # this would print out each digit in the sequence for each value which is un-neccessary.  \n",
    "                         # We just need to know if its true.\n",
    "    x=f(x)\n",
    "  if x == 1: \n",
    "    conjecture_success.append(\"True\")     # if the last value of x is 1, then it conforms to the collatz conjecture  \n",
    "                                          # and the result \"True\" is added to our list. \n",
    "  elif x != 1:       \n",
    "    conjecture_success.append(\"False\")    # if the last value of x isnt 1, then it has failed the collatz conjecture  \n",
    "                                          # and the result \"False\" is added to our list.\n",
    "      \n",
    "  "
   ]
  },
  {
   "cell_type": "code",
   "execution_count": null,
   "metadata": {},
   "outputs": [],
   "source": [
    "x = 1\n",
    "while x <= 10000:  #  a while loop running the collatz function for all values 1-10,000\n",
    "  collatz(x)\n",
    "  x += 1\n"
   ]
  },
  {
   "cell_type": "code",
   "execution_count": null,
   "metadata": {},
   "outputs": [],
   "source": [
    "if \"False\" in conjecture_success:\n",
    "  print(\"The conjecture has been disproven\")\n",
    "else:\n",
    "  print(\"Conjecture is true for all values up to 10,000\")\n"
   ]
  },
  {
   "cell_type": "markdown",
   "metadata": {},
   "source": [
    "***\n",
    "\n",
    "## End"
   ]
  }
 ],
 "metadata": {
  "kernelspec": {
   "display_name": "base",
   "language": "python",
   "name": "python3"
  },
  "language_info": {
   "codemirror_mode": {
    "name": "ipython",
    "version": 3
   },
   "file_extension": ".py",
   "mimetype": "text/x-python",
   "name": "python",
   "nbconvert_exporter": "python",
   "pygments_lexer": "ipython3",
   "version": "3.11.5"
  }
 },
 "nbformat": 4,
 "nbformat_minor": 2
}
