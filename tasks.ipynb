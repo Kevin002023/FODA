{
 "cells": [
  {
   "cell_type": "markdown",
   "metadata": {},
   "source": [
    "# Fundamentals Of Data Analysis - Tasks\n",
    "\n",
    "**Kevin O'Leary**\n",
    "\n",
    "***"
   ]
  },
  {
   "cell_type": "markdown",
   "metadata": {},
   "source": [
    "## Task 1 - Collatz Function\n",
    "\n",
    ">Verify, using Python, that the Collatz conjecture is true for the first 10,000 positive integers."
   ]
  },
  {
   "cell_type": "code",
   "execution_count": 1,
   "metadata": {},
   "outputs": [],
   "source": [
    "def f(x):\n",
    "  #If x is even, divide it by two.\n",
    "  if x % 2 == 0:\n",
    "    return x // 2\n",
    "  else:\n",
    "    return (3 * x) + 1"
   ]
  },
  {
   "cell_type": "code",
   "execution_count": 2,
   "metadata": {},
   "outputs": [],
   "source": [
    "conjecture_success = []  # If the conjecture works \"True\" will be added to this list. If it fails \"False\" will. This way we  \n",
    "                         # can check it works without printing out all sequences. "
   ]
  },
  {
   "cell_type": "code",
   "execution_count": 3,
   "metadata": {},
   "outputs": [],
   "source": [
    "def collatz(x):\n",
    "  while x != 1:          # if we run x as 1 it will get caught in a loop. we want it to stop when x = 1,   \n",
    "                         # as the conjecture is then true for that value\n",
    "    \n",
    "    #print(x, end=', ')  # this would print out each digit in the sequence for each value which is un-neccessary.  \n",
    "                         # We just need to know if its true.\n",
    "    x=f(x)\n",
    "  \n",
    "  if x == 1: \n",
    "    conjecture_success.append(\"True\")     # if the last value of x is 1, then it conforms to the collatz conjecture  \n",
    "                                          # and the result \"True\" is added to our list. \n",
    "  elif x != 1:       \n",
    "    conjecture_success.append(\"False\")    # if the last value of x isnt 1, then it has failed the collatz conjecture  \n",
    "                                          # and the result \"False\" is added to our list.\n",
    "      \n",
    "  "
   ]
  },
  {
   "cell_type": "code",
   "execution_count": 4,
   "metadata": {},
   "outputs": [],
   "source": [
    "x = 1\n",
    "while x <= 10000:  #  a while loop running the collatz function for all values 1-10,000\n",
    "  collatz(x)\n",
    "  x += 1\n"
   ]
  },
  {
   "cell_type": "code",
   "execution_count": 5,
   "metadata": {},
   "outputs": [
    {
     "name": "stdout",
     "output_type": "stream",
     "text": [
      "Conjecture is true for all values up to 10,000\n"
     ]
    }
   ],
   "source": [
    "if \"False\" in conjecture_success:\n",
    "  print(\"The conjecture has been disproven\")\n",
    "else:\n",
    "  print(\"Conjecture is true for all values up to 10,000\")\n"
   ]
  },
  {
   "cell_type": "markdown",
   "metadata": {},
   "source": [
    "## Task 2 - Penguin Dataset \n",
    "\n",
    ">Summary of the Penguin Database and suggest variables that could be used to model it"
   ]
  },
  {
   "cell_type": "markdown",
   "metadata": {},
   "source": [
    "**Summary**\n",
    "\n",
    "The penguins dataset was collected by Dr Kristen Gorman at the Palmer Station in Antartica. it contains information about different species of penguins at the Palmer Archipeligo. It is commonly used to demonstrate various data analyses and machine learning techniques. "
   ]
  },
  {
   "cell_type": "code",
   "execution_count": 6,
   "metadata": {},
   "outputs": [],
   "source": [
    "import seaborn as sb\n",
    "#Seaborn is a Data Visualisation Library. It contains a number of datasets including penguins.csv. "
   ]
  },
  {
   "cell_type": "code",
   "execution_count": 7,
   "metadata": {},
   "outputs": [],
   "source": [
    "import pandas as pd\n"
   ]
  },
  {
   "cell_type": "code",
   "execution_count": 8,
   "metadata": {},
   "outputs": [
    {
     "data": {
      "text/plain": [
       "['anagrams',\n",
       " 'anscombe',\n",
       " 'attention',\n",
       " 'brain_networks',\n",
       " 'car_crashes',\n",
       " 'diamonds',\n",
       " 'dots',\n",
       " 'dowjones',\n",
       " 'exercise',\n",
       " 'flights',\n",
       " 'fmri',\n",
       " 'geyser',\n",
       " 'glue',\n",
       " 'healthexp',\n",
       " 'iris',\n",
       " 'mpg',\n",
       " 'penguins',\n",
       " 'planets',\n",
       " 'seaice',\n",
       " 'taxis',\n",
       " 'tips',\n",
       " 'titanic']"
      ]
     },
     "execution_count": 8,
     "metadata": {},
     "output_type": "execute_result"
    }
   ],
   "source": [
    "sb.get_dataset_names()\n",
    "\n",
    "# Returns a list of all datasets within Seaborn"
   ]
  },
  {
   "cell_type": "code",
   "execution_count": 9,
   "metadata": {},
   "outputs": [],
   "source": [
    "penguins = sb.load_dataset('penguins')\n",
    "\n",
    "# loads the penguins dataset. \n",
    "# ref: https://seaborn.pydata.org/tutorial/introduction.html"
   ]
  },
  {
   "cell_type": "code",
   "execution_count": 10,
   "metadata": {},
   "outputs": [
    {
     "data": {
      "text/plain": [
       "(344, 7)"
      ]
     },
     "execution_count": 10,
     "metadata": {},
     "output_type": "execute_result"
    }
   ],
   "source": [
    "penguins.shape\n",
    "\n",
    "# displays how many rows/columns there are."
   ]
  },
  {
   "cell_type": "markdown",
   "metadata": {},
   "source": [
    "The dataframe is made up of 7 columns and 344 rows"
   ]
  },
  {
   "cell_type": "code",
   "execution_count": 11,
   "metadata": {},
   "outputs": [
    {
     "data": {
      "text/html": [
       "<div>\n",
       "<style scoped>\n",
       "    .dataframe tbody tr th:only-of-type {\n",
       "        vertical-align: middle;\n",
       "    }\n",
       "\n",
       "    .dataframe tbody tr th {\n",
       "        vertical-align: top;\n",
       "    }\n",
       "\n",
       "    .dataframe thead th {\n",
       "        text-align: right;\n",
       "    }\n",
       "</style>\n",
       "<table border=\"1\" class=\"dataframe\">\n",
       "  <thead>\n",
       "    <tr style=\"text-align: right;\">\n",
       "      <th></th>\n",
       "      <th>species</th>\n",
       "      <th>island</th>\n",
       "      <th>bill_length_mm</th>\n",
       "      <th>bill_depth_mm</th>\n",
       "      <th>flipper_length_mm</th>\n",
       "      <th>body_mass_g</th>\n",
       "      <th>sex</th>\n",
       "    </tr>\n",
       "  </thead>\n",
       "  <tbody>\n",
       "    <tr>\n",
       "      <th>0</th>\n",
       "      <td>Adelie</td>\n",
       "      <td>Torgersen</td>\n",
       "      <td>39.1</td>\n",
       "      <td>18.7</td>\n",
       "      <td>181.0</td>\n",
       "      <td>3750.0</td>\n",
       "      <td>Male</td>\n",
       "    </tr>\n",
       "    <tr>\n",
       "      <th>1</th>\n",
       "      <td>Adelie</td>\n",
       "      <td>Torgersen</td>\n",
       "      <td>39.5</td>\n",
       "      <td>17.4</td>\n",
       "      <td>186.0</td>\n",
       "      <td>3800.0</td>\n",
       "      <td>Female</td>\n",
       "    </tr>\n",
       "    <tr>\n",
       "      <th>2</th>\n",
       "      <td>Adelie</td>\n",
       "      <td>Torgersen</td>\n",
       "      <td>40.3</td>\n",
       "      <td>18.0</td>\n",
       "      <td>195.0</td>\n",
       "      <td>3250.0</td>\n",
       "      <td>Female</td>\n",
       "    </tr>\n",
       "    <tr>\n",
       "      <th>3</th>\n",
       "      <td>Adelie</td>\n",
       "      <td>Torgersen</td>\n",
       "      <td>NaN</td>\n",
       "      <td>NaN</td>\n",
       "      <td>NaN</td>\n",
       "      <td>NaN</td>\n",
       "      <td>NaN</td>\n",
       "    </tr>\n",
       "    <tr>\n",
       "      <th>4</th>\n",
       "      <td>Adelie</td>\n",
       "      <td>Torgersen</td>\n",
       "      <td>36.7</td>\n",
       "      <td>19.3</td>\n",
       "      <td>193.0</td>\n",
       "      <td>3450.0</td>\n",
       "      <td>Female</td>\n",
       "    </tr>\n",
       "  </tbody>\n",
       "</table>\n",
       "</div>"
      ],
      "text/plain": [
       "  species     island  bill_length_mm  bill_depth_mm  flipper_length_mm  \\\n",
       "0  Adelie  Torgersen            39.1           18.7              181.0   \n",
       "1  Adelie  Torgersen            39.5           17.4              186.0   \n",
       "2  Adelie  Torgersen            40.3           18.0              195.0   \n",
       "3  Adelie  Torgersen             NaN            NaN                NaN   \n",
       "4  Adelie  Torgersen            36.7           19.3              193.0   \n",
       "\n",
       "   body_mass_g     sex  \n",
       "0       3750.0    Male  \n",
       "1       3800.0  Female  \n",
       "2       3250.0  Female  \n",
       "3          NaN     NaN  \n",
       "4       3450.0  Female  "
      ]
     },
     "execution_count": 11,
     "metadata": {},
     "output_type": "execute_result"
    }
   ],
   "source": [
    "penguins.head()\n",
    "\n",
    "# Initial look at the dataset to ensure its what we were looking for. The head function allows you to see the first 5 rows in the dataframe"
   ]
  },
  {
   "cell_type": "markdown",
   "metadata": {},
   "source": [
    "From looking at the above we can see the dataframe is made up for 7 columns of different variables. Species, Island of Origin, Bill Length (mm), Bill Depth (mm), Flipper Length (mm), body mass (g) and Sex"
   ]
  },
  {
   "cell_type": "code",
   "execution_count": 12,
   "metadata": {},
   "outputs": [
    {
     "name": "stdout",
     "output_type": "stream",
     "text": [
      "<class 'pandas.core.frame.DataFrame'>\n",
      "RangeIndex: 344 entries, 0 to 343\n",
      "Data columns (total 7 columns):\n",
      " #   Column             Non-Null Count  Dtype  \n",
      "---  ------             --------------  -----  \n",
      " 0   species            344 non-null    object \n",
      " 1   island             344 non-null    object \n",
      " 2   bill_length_mm     342 non-null    float64\n",
      " 3   bill_depth_mm      342 non-null    float64\n",
      " 4   flipper_length_mm  342 non-null    float64\n",
      " 5   body_mass_g        342 non-null    float64\n",
      " 6   sex                333 non-null    object \n",
      "dtypes: float64(4), object(3)\n",
      "memory usage: 18.9+ KB\n"
     ]
    }
   ],
   "source": [
    "penguins.info()"
   ]
  },
  {
   "cell_type": "code",
   "execution_count": 13,
   "metadata": {},
   "outputs": [
    {
     "data": {
      "text/plain": [
       "species               object\n",
       "island                object\n",
       "bill_length_mm       float64\n",
       "bill_depth_mm        float64\n",
       "flipper_length_mm    float64\n",
       "body_mass_g          float64\n",
       "sex                   object\n",
       "dtype: object"
      ]
     },
     "execution_count": 13,
     "metadata": {},
     "output_type": "execute_result"
    }
   ],
   "source": [
    "penguins.dtypes"
   ]
  },
  {
   "cell_type": "markdown",
   "metadata": {},
   "source": [
    "Pandas classification of datatypes is a little different to Python. In Python we have the datatypes; int, float, string and bool. However in Pandas int is classified as 'int64', float as 'float64', a string as 'object' and bool remains the same. \n",
    "\n",
    "Based on the above, 'species', 'island' and 'sex are strings in Python and object in pandas. The other columns that contain measurements area all floats in Python and float64 in Pandas. This is what we would expect based on the contents of the columns above. \n",
    "\n",
    "Ref: https://pbpython.com/pandas_dtypes.html"
   ]
  },
  {
   "cell_type": "markdown",
   "metadata": {},
   "source": [
    "# Task 3 - Probability Distribution\n",
    "\n",
    ">For each of the variables in the penguins data set, suggest what probability distribution from the numpy random distributions list\n",
    "is the most appropriate to model the variable."
   ]
  },
  {
   "cell_type": "markdown",
   "metadata": {},
   "source": [
    "> The easiest manner to determine the underlying distribution is by visually inspecting the random variable(s) using a histogram. \n",
    "\n",
    "ref: https://towardsdatascience.com/how-to-find-the-best-theoretical-distribution-for-your-data-a26e5673b4bd\n"
   ]
  },
  {
   "cell_type": "code",
   "execution_count": 14,
   "metadata": {},
   "outputs": [],
   "source": [
    "import matplotlib.pyplot as plt\n",
    "import numpy as np\n"
   ]
  },
  {
   "cell_type": "code",
   "execution_count": 15,
   "metadata": {},
   "outputs": [],
   "source": [
    "species = penguins['species']\n",
    "island = penguins['island']\n",
    "bill_len = penguins['bill_length_mm']\n",
    "bill_depth = penguins['bill_depth_mm']\n",
    "flip_len = penguins['flipper_length_mm']\n",
    "body_mass = penguins['body_mass_g']\n",
    "sex = penguins['sex']\n"
   ]
  },
  {
   "cell_type": "markdown",
   "metadata": {},
   "source": [
    "For the categorical variables (species, island and sex) it is best to use a bar chart to display the distribution. For the continuous variables a histogram is better. "
   ]
  },
  {
   "cell_type": "code",
   "execution_count": 16,
   "metadata": {},
   "outputs": [],
   "source": [
    "#Sex, counts = np.unique(sex, return_counts=True) \n",
    "\n",
    "#fig, ax = plt.subplots()\n",
    "\n",
    "#ax.bar(Sex, counts);\n",
    "#ax.set_ylabel(\"Number of Penguins\")\n",
    "#ax.set_title(\"Distribution of Male vs Female Penguins\")"
   ]
  },
  {
   "cell_type": "markdown",
   "metadata": {},
   "source": [
    "I tried plotting the distribution of Male vs Female Penguins using the cell above. As you can see when plotting the sex dataframe, an error is produced. This is due to the missing values NaN.  To resolve this and to compare solely the male vs female distribution I am going to [remove any null values.](https://www.w3schools.com/python/pandas/ref_df_dropna.asp) "
   ]
  },
  {
   "cell_type": "code",
   "execution_count": 17,
   "metadata": {},
   "outputs": [
    {
     "name": "stdout",
     "output_type": "stream",
     "text": [
      "<class 'pandas.core.series.Series'>\n",
      "RangeIndex: 344 entries, 0 to 343\n",
      "Series name: sex\n",
      "Non-Null Count  Dtype \n",
      "--------------  ----- \n",
      "333 non-null    object\n",
      "dtypes: object(1)\n",
      "memory usage: 2.8+ KB\n"
     ]
    }
   ],
   "source": [
    "sex.info()\n",
    "\n",
    "#Here we can see there is 344 entries in this dataframe"
   ]
  },
  {
   "cell_type": "code",
   "execution_count": 18,
   "metadata": {},
   "outputs": [
    {
     "name": "stdout",
     "output_type": "stream",
     "text": [
      "<class 'pandas.core.series.Series'>\n",
      "Index: 333 entries, 0 to 343\n",
      "Series name: sex\n",
      "Non-Null Count  Dtype \n",
      "--------------  ----- \n",
      "333 non-null    object\n",
      "dtypes: object(1)\n",
      "memory usage: 5.2+ KB\n"
     ]
    }
   ],
   "source": [
    "\n",
    "sex2 = sex.dropna()\n",
    "sex2.info()\n",
    "\n",
    "#After removing the null values there are only 333 entires. 10 null values have been removed. "
   ]
  },
  {
   "cell_type": "code",
   "execution_count": 19,
   "metadata": {},
   "outputs": [
    {
     "data": {
      "text/plain": [
       "Text(0.5, 1.0, 'Distribution of Male vs Female Penguins')"
      ]
     },
     "execution_count": 19,
     "metadata": {},
     "output_type": "execute_result"
    },
    {
     "data": {
      "image/png": "[encoded data removed]",
      "text/plain": [
       "<Figure size 640x480 with 1 Axes>"
      ]
     },
     "metadata": {},
     "output_type": "display_data"
    }
   ],
   "source": [
    "Sex, counts0 = np.unique(sex2, return_counts=True) \n",
    "\n",
    "fig, ax = plt.subplots()\n",
    "\n",
    "ax.bar(Sex, counts0);\n",
    "ax.set_ylabel(\"Number of Penguins\")\n",
    "ax.set_title(\"Distribution of Male vs Female Penguins\")\n"
   ]
  },
  {
   "cell_type": "markdown",
   "metadata": {},
   "source": [
    "There is an almost equal frequency of Male vs Female penguins in the Dataset. This would suggest a uniform distribution.  \n",
    "\n",
    "A [uniform distribution](https://numpy.org/doc/1.16/reference/generated/numpy.random.uniform.html#numpy.random.uniform) has no peak and is constant across the range which means all values are equally likely\n",
    "\n",
    "To be more specific as there are only two possible values in this case it would be a [discrete uniform distribution](https://en.wikipedia.org/wiki/Discrete_uniform_distribution) as there is a finite number of outcomes. "
   ]
  },
  {
   "cell_type": "code",
   "execution_count": 20,
   "metadata": {},
   "outputs": [],
   "source": [
    "Spec, counts = np.unique(species, return_counts=True) \n",
    "# will produce two arrays, one with the species name and one with the number of times that species appears in the dataset. \n",
    "\n"
   ]
  },
  {
   "cell_type": "code",
   "execution_count": 21,
   "metadata": {},
   "outputs": [
    {
     "data": {
      "text/plain": [
       "Text(0.5, 1.0, 'Distribution of Penguin Species')"
      ]
     },
     "execution_count": 21,
     "metadata": {},
     "output_type": "execute_result"
    },
    {
     "data": {
      "image/png": "[encoded data removed]",
      "text/plain": [
       "<Figure size 640x480 with 1 Axes>"
      ]
     },
     "metadata": {},
     "output_type": "display_data"
    }
   ],
   "source": [
    "# Plot a bar chart with these values\n",
    "fig, ax = plt.subplots()\n",
    "\n",
    "ax.bar(Spec, counts);\n",
    "ax.set_ylabel(\"Number of Penguins\")\n",
    "ax.set_title(\"Distribution of Penguin Species\")\n",
    "             "
   ]
  },
  {
   "cell_type": "code",
   "execution_count": 22,
   "metadata": {},
   "outputs": [
    {
     "data": {
      "text/plain": [
       "Text(0.5, 1.0, 'Distribution of Penguins between each Island')"
      ]
     },
     "execution_count": 22,
     "metadata": {},
     "output_type": "execute_result"
    },
    {
     "data": {
      "image/png": "[encoded data removed]",
      "text/plain": [
       "<Figure size 640x480 with 1 Axes>"
      ]
     },
     "metadata": {},
     "output_type": "display_data"
    }
   ],
   "source": [
    "# Bar chart of showing distribution of penguins across the 3 Islands. \n",
    "\n",
    "Islands, counts1 = np.unique(island, return_counts=True) \n",
    "\n",
    "fig, ax = plt.subplots()\n",
    "\n",
    "ax.bar(Islands, counts1);\n",
    "ax.set_ylabel(\"Number of Penguins\")\n",
    "ax.set_title(\"Distribution of Penguins between each Island\")"
   ]
  },
  {
   "cell_type": "code",
   "execution_count": 23,
   "metadata": {},
   "outputs": [
    {
     "ename": "NameError",
     "evalue": "name 'sex_str' is not defined",
     "output_type": "error",
     "traceback": [
      "\u001b[1;31m---------------------------------------------------------------------------\u001b[0m",
      "\u001b[1;31mNameError\u001b[0m                                 Traceback (most recent call last)",
      "Cell \u001b[1;32mIn[23], line 1\u001b[0m\n\u001b[1;32m----> 1\u001b[0m Peng_Sex, counts2 \u001b[38;5;241m=\u001b[39m np\u001b[38;5;241m.\u001b[39munique(sex_str, return_counts\u001b[38;5;241m=\u001b[39m\u001b[38;5;28;01mTrue\u001b[39;00m)\n",
      "\u001b[1;31mNameError\u001b[0m: name 'sex_str' is not defined"
     ]
    }
   ],
   "source": [
    "Peng_Sex, counts2 = np.unique(sex_str, return_counts=True) \n"
   ]
  },
  {
   "cell_type": "code",
   "execution_count": null,
   "metadata": {},
   "outputs": [],
   "source": [
    "\n",
    "\n",
    "#fig, ax = plt.subplots()\n",
    "\n",
    "#x.bar(Peng_Sex, counts2)\n",
    "#ax.set_ylabel(\"Number of Penguins\")\n",
    "#ax.set_title(\"Distribution of Male and Female Penguins\")"
   ]
  },
  {
   "cell_type": "markdown",
   "metadata": {},
   "source": [
    "Create a histogram with 19 binsfor each variable.  [To assign a correct number of bins](https://www.qimacros.com/histogram-excel/how-to-determine-histogram-bin-interval/), we need to find the square root of the number of data points (344) and round it up. \n",
    "\n",
    "$\\sqrt{344}$ = 18.55"
   ]
  },
  {
   "cell_type": "code",
   "execution_count": null,
   "metadata": {},
   "outputs": [
    {
     "data": {
      "text/plain": [
       "Text(0.5, 0, 'Number of Penguins')"
      ]
     },
     "execution_count": 48,
     "metadata": {},
     "output_type": "execute_result"
    },
    {
     "data": {
      "image/png": "[encoded data removed]",
      "text/plain": [
       "<Figure size 640x480 with 1 Axes>"
      ]
     },
     "metadata": {},
     "output_type": "display_data"
    }
   ],
   "source": [
    "plt.hist(bill_len, 19)\n",
    "plt.ylabel(\"Length of Bill (mm)\")\n",
    "plt.xlabel(\"Number of Penguins\")\n",
    "\n"
   ]
  },
  {
   "cell_type": "code",
   "execution_count": null,
   "metadata": {},
   "outputs": [
    {
     "data": {
      "text/plain": [
       "Text(0.5, 0, 'Number of Penguins')"
      ]
     },
     "execution_count": 49,
     "metadata": {},
     "output_type": "execute_result"
    },
    {
     "data": {
      "image/png": "[encoded data removed]",
      "text/plain": [
       "<Figure size 640x480 with 1 Axes>"
      ]
     },
     "metadata": {},
     "output_type": "display_data"
    }
   ],
   "source": [
    "plt.hist(bill_depth, 19)\n",
    "plt.ylabel(\"Depth of Bill (mm)\")\n",
    "plt.xlabel(\"Number of Penguins\")\n"
   ]
  },
  {
   "cell_type": "code",
   "execution_count": null,
   "metadata": {},
   "outputs": [
    {
     "data": {
      "text/plain": [
       "Text(0.5, 0, 'Number of Penguins')"
      ]
     },
     "execution_count": 50,
     "metadata": {},
     "output_type": "execute_result"
    },
    {
     "data": {
      "image/png": "[encoded data removed]",
      "text/plain": [
       "<Figure size 640x480 with 1 Axes>"
      ]
     },
     "metadata": {},
     "output_type": "display_data"
    }
   ],
   "source": [
    "plt.hist(flip_len, 19)\n",
    "plt.ylabel(\"Length of Flipper (mm)\")\n",
    "plt.xlabel(\"Number of Penguins\")"
   ]
  },
  {
   "cell_type": "code",
   "execution_count": null,
   "metadata": {},
   "outputs": [
    {
     "data": {
      "text/plain": [
       "Text(0.5, 0, 'Number of Penguins')"
      ]
     },
     "execution_count": 51,
     "metadata": {},
     "output_type": "execute_result"
    },
    {
     "data": {
      "image/png": "[encoded data removed]",
      "text/plain": [
       "<Figure size 640x480 with 1 Axes>"
      ]
     },
     "metadata": {},
     "output_type": "display_data"
    }
   ],
   "source": [
    "plt.hist(body_mass, 19)\n",
    "plt.ylabel(\"Mass of Body(g)\")\n",
    "plt.xlabel(\"Number of Penguins\")"
   ]
  },
  {
   "cell_type": "code",
   "execution_count": null,
   "metadata": {},
   "outputs": [],
   "source": []
  },
  {
   "cell_type": "markdown",
   "metadata": {},
   "source": [
    "The distribution of the continuous variables doesn't fit a recognisable distribution. This could be because these variables differ based on species. Perhaps we should separate them by species and then plot them. "
   ]
  },
  {
   "cell_type": "code",
   "execution_count": null,
   "metadata": {},
   "outputs": [
    {
     "name": "stderr",
     "output_type": "stream",
     "text": [
      "c:\\Users\\kolea\\anaconda3\\Lib\\site-packages\\seaborn\\axisgrid.py:118: UserWarning: The figure layout has changed to tight\n",
      "  self._figure.tight_layout(*args, **kwargs)\n"
     ]
    },
    {
     "data": {
      "text/plain": [
       "<seaborn.axisgrid.FacetGrid at 0x1c86e207350>"
      ]
     },
     "execution_count": 52,
     "metadata": {},
     "output_type": "execute_result"
    },
    {
     "data": {
      "image/png": "[encoded data removed]",
      "text/plain": [
       "<Figure size 1440x400 with 3 Axes>"
      ]
     },
     "metadata": {},
     "output_type": "display_data"
    }
   ],
   "source": [
    "bl = sb.FacetGrid(penguins, col=\"species\", height=4, aspect=1.2)\n",
    "\n",
    "bl.map(sb.histplot, 'bill_length_mm', bins=10, color=\"skyblue\", label=\"Bill Length\")"
   ]
  },
  {
   "cell_type": "code",
   "execution_count": null,
   "metadata": {},
   "outputs": [
    {
     "name": "stderr",
     "output_type": "stream",
     "text": [
      "c:\\Users\\kolea\\anaconda3\\Lib\\site-packages\\seaborn\\axisgrid.py:118: UserWarning: The figure layout has changed to tight\n",
      "  self._figure.tight_layout(*args, **kwargs)\n"
     ]
    },
    {
     "data": {
      "text/plain": [
       "<seaborn.axisgrid.FacetGrid at 0x1c870496f50>"
      ]
     },
     "execution_count": 53,
     "metadata": {},
     "output_type": "execute_result"
    },
    {
     "data": {
      "image/png": "[encoded data removed]",
      "text/plain": [
       "<Figure size 1440x400 with 3 Axes>"
      ]
     },
     "metadata": {},
     "output_type": "display_data"
    }
   ],
   "source": [
    "bd = sb.FacetGrid(penguins, col=\"species\", height=4, aspect=1.2)\n",
    "\n",
    "bd.map(sb.histplot, 'bill_depth_mm', bins=10, color=\"skyblue\", label=\"Bill Depth\")"
   ]
  },
  {
   "cell_type": "code",
   "execution_count": null,
   "metadata": {},
   "outputs": [
    {
     "name": "stderr",
     "output_type": "stream",
     "text": [
      "c:\\Users\\kolea\\anaconda3\\Lib\\site-packages\\seaborn\\axisgrid.py:118: UserWarning: The figure layout has changed to tight\n",
      "  self._figure.tight_layout(*args, **kwargs)\n"
     ]
    },
    {
     "data": {
      "text/plain": [
       "<seaborn.axisgrid.FacetGrid at 0x1c86e217cd0>"
      ]
     },
     "execution_count": 54,
     "metadata": {},
     "output_type": "execute_result"
    },
    {
     "data": {
      "image/png": "[encoded data removed]",
      "text/plain": [
       "<Figure size 1440x400 with 3 Axes>"
      ]
     },
     "metadata": {},
     "output_type": "display_data"
    }
   ],
   "source": [
    "fl = sb.FacetGrid(penguins, col=\"species\", height=4, aspect=1.2)\n",
    "fl.map(sb.histplot, 'flipper_length_mm', bins=10, color=\"green\", label=\"Flipper Length\")"
   ]
  },
  {
   "cell_type": "code",
   "execution_count": null,
   "metadata": {},
   "outputs": [
    {
     "name": "stderr",
     "output_type": "stream",
     "text": [
      "c:\\Users\\kolea\\anaconda3\\Lib\\site-packages\\seaborn\\axisgrid.py:118: UserWarning: The figure layout has changed to tight\n",
      "  self._figure.tight_layout(*args, **kwargs)\n"
     ]
    },
    {
     "data": {
      "text/plain": [
       "<seaborn.axisgrid.FacetGrid at 0x1c8709e9250>"
      ]
     },
     "execution_count": 55,
     "metadata": {},
     "output_type": "execute_result"
    },
    {
     "data": {
      "image/png": "[encoded data removed]",
      "text/plain": [
       "<Figure size 1440x400 with 3 Axes>"
      ]
     },
     "metadata": {},
     "output_type": "display_data"
    }
   ],
   "source": [
    "bg = sb.FacetGrid(penguins, col=\"species\", height=4, aspect=1.2)\n",
    "bg.map(sb.histplot, 'body_mass_g', bins=10, color=\"green\", label=\"Body Mass (g)\")"
   ]
  },
  {
   "cell_type": "markdown",
   "metadata": {},
   "source": [
    "After separating the variables by 'Species', the distribution of the four variables seems to match a normal Gaussian distribution.\n",
    "\n",
    "- They all approximately fall under the bell-shaped curve. \n",
    "- They are concentrated around the mean, and the frequency drops the further you move in either direction. \n",
    "- There is a single peak in each plot\n",
    "- There is a rough symmetry to the plots as well"
   ]
  },
  {
   "cell_type": "markdown",
   "metadata": {},
   "source": [
    "# Task 4 - Entropy\n",
    "\n",
    "Suppose you are flipping two coins, each with a probability p of giving heads. Plot the entropy of the total number of heads versus p. "
   ]
  },
  {
   "cell_type": "markdown",
   "metadata": {},
   "source": [
    "Shannons Equation for entropy\n",
    "\n",
    "$$H(x) =  - \\sum_{i=1}^{n}P(x_i)log_2P(x_i)$$"
   ]
  },
  {
   "cell_type": "markdown",
   "metadata": {},
   "source": [
    "P = probability\n",
    "\n",
    " 0< P >1\n",
    "\n",
    " To calculate the entropy of multiple coin tosses, where each toss is independent of other tosses, we can sum the individual entropies [for each coin toss.](https://medium.com/@mhannan94/information-entropy-3cce2bac62a2)."
   ]
  },
  {
   "cell_type": "code",
   "execution_count": null,
   "metadata": {},
   "outputs": [],
   "source": [
    "https://bytepawn.com/what-is-the-entropy-of-a-fair-coin-toss.html#:~:text=What%20is%20the%20entropy%20of%20a%20fair%20coin%20toss%3F,-Let's%20look%20at&text=For%20a%20fair%20coin%2C%20we,2%201%202%20%5D%20%3D%201%20."
   ]
  },
  {
   "cell_type": "markdown",
   "metadata": {},
   "source": [
    "With 1 coin toss the probability of heads is p\n",
    "The probability of tails is (1-p)"
   ]
  },
  {
   "cell_type": "markdown",
   "metadata": {},
   "source": [
    "2 coin tosses\n",
    "\n",
    "probability for 0 heads (TT) is (1-p) for each toss\n",
    "$$ (1-p)\\times(1-p) $$ \n",
    "or $$ (1-p)^2 $$\n",
    "\n",
    "Probability for 1 head (HT or TH)\n",
    "$$ (p\\times (1-p)) + ((1-p)\\times p)$$ \n",
    "or $$2p(1-p)$$\n",
    "\n",
    "Probability of 2 heads (HH) is:\n",
    "$$p\\times p$$\n",
    "or $$p^2$$"
   ]
  },
  {
   "cell_type": "markdown",
   "metadata": {},
   "source": [
    "We now want to create a function that will calculate entropy using Shannons equation. As flipping a coin has a binary result we can use the [binary entropy function](https://en.wikipedia.org/wiki/Binary_entropy_function)\n",
    "\n",
    "$$ H(X) = - [P.log_2(P)+(1-P).log_2(1-P)] $$\n",
    "\n",
    "To calculate the entropy of multiple coin tosses, where each toss is independent of other tosses, we can sum the individual entropies [for each coin toss](https://medium.com/@mhannan94/information-entropy-3cce2bac62a2#:~:text=To%20calculate%20the%20entropy%20of,result%20of%20each%20coin%20toss)"
   ]
  },
  {
   "cell_type": "code",
   "execution_count": null,
   "metadata": {},
   "outputs": [],
   "source": [
    "def H(p):\n",
    "  #return  -(p*np.log2(p) + (1 - p)*np.log2(1 - p)) # entropy for flipping one coin\n",
    "  return -(p*np.log2(p) + (1 - p)*np.log2(1 - p))*2 # entropy for flipping two coins\n",
    "  "
   ]
  },
  {
   "cell_type": "code",
   "execution_count": null,
   "metadata": {},
   "outputs": [
    {
     "data": {
      "text/plain": [
       "array([0.001     , 0.001999  , 0.002998  , 0.003997  , 0.004996  ,\n",
       "       0.00599499, 0.00699399, 0.00799299, 0.00899199, 0.00999099,\n",
       "       0.01098999, 0.01198899, 0.01298799, 0.01398699, 0.01498599,\n",
       "       0.01598498, 0.01698398, 0.01798298, 0.01898198, 0.01998098,\n",
       "       0.02097998, 0.02197898, 0.02297798, 0.02397698, 0.02497598,\n",
       "       0.02597497, 0.02697397, 0.02797297, 0.02897197, 0.02997097,\n",
       "       0.03096997, 0.03196897, 0.03296797, 0.03396697, 0.03496597,\n",
       "       0.03596496, 0.03696396, 0.03796296, 0.03896196, 0.03996096,\n",
       "       0.04095996, 0.04195896, 0.04295796, 0.04395696, 0.04495596,\n",
       "       0.04595495, 0.04695395, 0.04795295, 0.04895195, 0.04995095,\n",
       "       0.05094995, 0.05194895, 0.05294795, 0.05394695, 0.05494595,\n",
       "       0.05594494, 0.05694394, 0.05794294, 0.05894194, 0.05994094,\n",
       "       0.06093994, 0.06193894, 0.06293794, 0.06393694, 0.06493594,\n",
       "       0.06593493, 0.06693393, 0.06793293, 0.06893193, 0.06993093,\n",
       "       0.07092993, 0.07192893, 0.07292793, 0.07392693, 0.07492593,\n",
       "       0.07592492, 0.07692392, 0.07792292, 0.07892192, 0.07992092,\n",
       "       0.08091992, 0.08191892, 0.08291792, 0.08391692, 0.08491592,\n",
       "       0.08591491, 0.08691391, 0.08791291, 0.08891191, 0.08991091,\n",
       "       0.09090991, 0.09190891, 0.09290791, 0.09390691, 0.09490591,\n",
       "       0.0959049 , 0.0969039 , 0.0979029 , 0.0989019 , 0.0999009 ,\n",
       "       0.1008999 , 0.1018989 , 0.1028979 , 0.1038969 , 0.1048959 ,\n",
       "       0.10589489, 0.10689389, 0.10789289, 0.10889189, 0.10989089,\n",
       "       0.11088989, 0.11188889, 0.11288789, 0.11388689, 0.11488589,\n",
       "       0.11588488, 0.11688388, 0.11788288, 0.11888188, 0.11988088,\n",
       "       0.12087988, 0.12187888, 0.12287788, 0.12387688, 0.12487588,\n",
       "       0.12587487, 0.12687387, 0.12787287, 0.12887187, 0.12987087,\n",
       "       0.13086987, 0.13186887, 0.13286787, 0.13386687, 0.13486587,\n",
       "       0.13586486, 0.13686386, 0.13786286, 0.13886186, 0.13986086,\n",
       "       0.14085986, 0.14185886, 0.14285786, 0.14385686, 0.14485586,\n",
       "       0.14585485, 0.14685385, 0.14785285, 0.14885185, 0.14985085,\n",
       "       0.15084985, 0.15184885, 0.15284785, 0.15384685, 0.15484585,\n",
       "       0.15584484, 0.15684384, 0.15784284, 0.15884184, 0.15984084,\n",
       "       0.16083984, 0.16183884, 0.16283784, 0.16383684, 0.16483584,\n",
       "       0.16583483, 0.16683383, 0.16783283, 0.16883183, 0.16983083,\n",
       "       0.17082983, 0.17182883, 0.17282783, 0.17382683, 0.17482583,\n",
       "       0.17582482, 0.17682382, 0.17782282, 0.17882182, 0.17982082,\n",
       "       0.18081982, 0.18181882, 0.18281782, 0.18381682, 0.18481582,\n",
       "       0.18581481, 0.18681381, 0.18781281, 0.18881181, 0.18981081,\n",
       "       0.19080981, 0.19180881, 0.19280781, 0.19380681, 0.19480581,\n",
       "       0.1958048 , 0.1968038 , 0.1978028 , 0.1988018 , 0.1998008 ,\n",
       "       0.2007998 , 0.2017988 , 0.2027978 , 0.2037968 , 0.2047958 ,\n",
       "       0.20579479, 0.20679379, 0.20779279, 0.20879179, 0.20979079,\n",
       "       0.21078979, 0.21178879, 0.21278779, 0.21378679, 0.21478579,\n",
       "       0.21578478, 0.21678378, 0.21778278, 0.21878178, 0.21978078,\n",
       "       0.22077978, 0.22177878, 0.22277778, 0.22377678, 0.22477578,\n",
       "       0.22577477, 0.22677377, 0.22777277, 0.22877177, 0.22977077,\n",
       "       0.23076977, 0.23176877, 0.23276777, 0.23376677, 0.23476577,\n",
       "       0.23576476, 0.23676376, 0.23776276, 0.23876176, 0.23976076,\n",
       "       0.24075976, 0.24175876, 0.24275776, 0.24375676, 0.24475576,\n",
       "       0.24575475, 0.24675375, 0.24775275, 0.24875175, 0.24975075,\n",
       "       0.25074975, 0.25174875, 0.25274775, 0.25374675, 0.25474575,\n",
       "       0.25574474, 0.25674374, 0.25774274, 0.25874174, 0.25974074,\n",
       "       0.26073974, 0.26173874, 0.26273774, 0.26373674, 0.26473574,\n",
       "       0.26573473, 0.26673373, 0.26773273, 0.26873173, 0.26973073,\n",
       "       0.27072973, 0.27172873, 0.27272773, 0.27372673, 0.27472573,\n",
       "       0.27572472, 0.27672372, 0.27772272, 0.27872172, 0.27972072,\n",
       "       0.28071972, 0.28171872, 0.28271772, 0.28371672, 0.28471572,\n",
       "       0.28571471, 0.28671371, 0.28771271, 0.28871171, 0.28971071,\n",
       "       0.29070971, 0.29170871, 0.29270771, 0.29370671, 0.29470571,\n",
       "       0.2957047 , 0.2967037 , 0.2977027 , 0.2987017 , 0.2997007 ,\n",
       "       0.3006997 , 0.3016987 , 0.3026977 , 0.3036967 , 0.3046957 ,\n",
       "       0.30569469, 0.30669369, 0.30769269, 0.30869169, 0.30969069,\n",
       "       0.31068969, 0.31168869, 0.31268769, 0.31368669, 0.31468569,\n",
       "       0.31568468, 0.31668368, 0.31768268, 0.31868168, 0.31968068,\n",
       "       0.32067968, 0.32167868, 0.32267768, 0.32367668, 0.32467568,\n",
       "       0.32567467, 0.32667367, 0.32767267, 0.32867167, 0.32967067,\n",
       "       0.33066967, 0.33166867, 0.33266767, 0.33366667, 0.33466567,\n",
       "       0.33566466, 0.33666366, 0.33766266, 0.33866166, 0.33966066,\n",
       "       0.34065966, 0.34165866, 0.34265766, 0.34365666, 0.34465566,\n",
       "       0.34565465, 0.34665365, 0.34765265, 0.34865165, 0.34965065,\n",
       "       0.35064965, 0.35164865, 0.35264765, 0.35364665, 0.35464565,\n",
       "       0.35564464, 0.35664364, 0.35764264, 0.35864164, 0.35964064,\n",
       "       0.36063964, 0.36163864, 0.36263764, 0.36363664, 0.36463564,\n",
       "       0.36563463, 0.36663363, 0.36763263, 0.36863163, 0.36963063,\n",
       "       0.37062963, 0.37162863, 0.37262763, 0.37362663, 0.37462563,\n",
       "       0.37562462, 0.37662362, 0.37762262, 0.37862162, 0.37962062,\n",
       "       0.38061962, 0.38161862, 0.38261762, 0.38361662, 0.38461562,\n",
       "       0.38561461, 0.38661361, 0.38761261, 0.38861161, 0.38961061,\n",
       "       0.39060961, 0.39160861, 0.39260761, 0.39360661, 0.39460561,\n",
       "       0.3956046 , 0.3966036 , 0.3976026 , 0.3986016 , 0.3996006 ,\n",
       "       0.4005996 , 0.4015986 , 0.4025976 , 0.4035966 , 0.4045956 ,\n",
       "       0.40559459, 0.40659359, 0.40759259, 0.40859159, 0.40959059,\n",
       "       0.41058959, 0.41158859, 0.41258759, 0.41358659, 0.41458559,\n",
       "       0.41558458, 0.41658358, 0.41758258, 0.41858158, 0.41958058,\n",
       "       0.42057958, 0.42157858, 0.42257758, 0.42357658, 0.42457558,\n",
       "       0.42557457, 0.42657357, 0.42757257, 0.42857157, 0.42957057,\n",
       "       0.43056957, 0.43156857, 0.43256757, 0.43356657, 0.43456557,\n",
       "       0.43556456, 0.43656356, 0.43756256, 0.43856156, 0.43956056,\n",
       "       0.44055956, 0.44155856, 0.44255756, 0.44355656, 0.44455556,\n",
       "       0.44555455, 0.44655355, 0.44755255, 0.44855155, 0.44955055,\n",
       "       0.45054955, 0.45154855, 0.45254755, 0.45354655, 0.45454555,\n",
       "       0.45554454, 0.45654354, 0.45754254, 0.45854154, 0.45954054,\n",
       "       0.46053954, 0.46153854, 0.46253754, 0.46353654, 0.46453554,\n",
       "       0.46553453, 0.46653353, 0.46753253, 0.46853153, 0.46953053,\n",
       "       0.47052953, 0.47152853, 0.47252753, 0.47352653, 0.47452553,\n",
       "       0.47552452, 0.47652352, 0.47752252, 0.47852152, 0.47952052,\n",
       "       0.48051952, 0.48151852, 0.48251752, 0.48351652, 0.48451552,\n",
       "       0.48551451, 0.48651351, 0.48751251, 0.48851151, 0.48951051,\n",
       "       0.49050951, 0.49150851, 0.49250751, 0.49350651, 0.49450551,\n",
       "       0.4955045 , 0.4965035 , 0.4975025 , 0.4985015 , 0.4995005 ,\n",
       "       0.5004995 , 0.5014985 , 0.5024975 , 0.5034965 , 0.5044955 ,\n",
       "       0.50549449, 0.50649349, 0.50749249, 0.50849149, 0.50949049,\n",
       "       0.51048949, 0.51148849, 0.51248749, 0.51348649, 0.51448549,\n",
       "       0.51548448, 0.51648348, 0.51748248, 0.51848148, 0.51948048,\n",
       "       0.52047948, 0.52147848, 0.52247748, 0.52347648, 0.52447548,\n",
       "       0.52547447, 0.52647347, 0.52747247, 0.52847147, 0.52947047,\n",
       "       0.53046947, 0.53146847, 0.53246747, 0.53346647, 0.53446547,\n",
       "       0.53546446, 0.53646346, 0.53746246, 0.53846146, 0.53946046,\n",
       "       0.54045946, 0.54145846, 0.54245746, 0.54345646, 0.54445546,\n",
       "       0.54545445, 0.54645345, 0.54745245, 0.54845145, 0.54945045,\n",
       "       0.55044945, 0.55144845, 0.55244745, 0.55344645, 0.55444545,\n",
       "       0.55544444, 0.55644344, 0.55744244, 0.55844144, 0.55944044,\n",
       "       0.56043944, 0.56143844, 0.56243744, 0.56343644, 0.56443544,\n",
       "       0.56543443, 0.56643343, 0.56743243, 0.56843143, 0.56943043,\n",
       "       0.57042943, 0.57142843, 0.57242743, 0.57342643, 0.57442543,\n",
       "       0.57542442, 0.57642342, 0.57742242, 0.57842142, 0.57942042,\n",
       "       0.58041942, 0.58141842, 0.58241742, 0.58341642, 0.58441542,\n",
       "       0.58541441, 0.58641341, 0.58741241, 0.58841141, 0.58941041,\n",
       "       0.59040941, 0.59140841, 0.59240741, 0.59340641, 0.59440541,\n",
       "       0.5954044 , 0.5964034 , 0.5974024 , 0.5984014 , 0.5994004 ,\n",
       "       0.6003994 , 0.6013984 , 0.6023974 , 0.6033964 , 0.6043954 ,\n",
       "       0.60539439, 0.60639339, 0.60739239, 0.60839139, 0.60939039,\n",
       "       0.61038939, 0.61138839, 0.61238739, 0.61338639, 0.61438539,\n",
       "       0.61538438, 0.61638338, 0.61738238, 0.61838138, 0.61938038,\n",
       "       0.62037938, 0.62137838, 0.62237738, 0.62337638, 0.62437538,\n",
       "       0.62537437, 0.62637337, 0.62737237, 0.62837137, 0.62937037,\n",
       "       0.63036937, 0.63136837, 0.63236737, 0.63336637, 0.63436537,\n",
       "       0.63536436, 0.63636336, 0.63736236, 0.63836136, 0.63936036,\n",
       "       0.64035936, 0.64135836, 0.64235736, 0.64335636, 0.64435536,\n",
       "       0.64535435, 0.64635335, 0.64735235, 0.64835135, 0.64935035,\n",
       "       0.65034935, 0.65134835, 0.65234735, 0.65334635, 0.65434535,\n",
       "       0.65534434, 0.65634334, 0.65734234, 0.65834134, 0.65934034,\n",
       "       0.66033934, 0.66133834, 0.66233734, 0.66333634, 0.66433534,\n",
       "       0.66533433, 0.66633333, 0.66733233, 0.66833133, 0.66933033,\n",
       "       0.67032933, 0.67132833, 0.67232733, 0.67332633, 0.67432533,\n",
       "       0.67532432, 0.67632332, 0.67732232, 0.67832132, 0.67932032,\n",
       "       0.68031932, 0.68131832, 0.68231732, 0.68331632, 0.68431532,\n",
       "       0.68531431, 0.68631331, 0.68731231, 0.68831131, 0.68931031,\n",
       "       0.69030931, 0.69130831, 0.69230731, 0.69330631, 0.69430531,\n",
       "       0.6953043 , 0.6963033 , 0.6973023 , 0.6983013 , 0.6993003 ,\n",
       "       0.7002993 , 0.7012983 , 0.7022973 , 0.7032963 , 0.7042953 ,\n",
       "       0.70529429, 0.70629329, 0.70729229, 0.70829129, 0.70929029,\n",
       "       0.71028929, 0.71128829, 0.71228729, 0.71328629, 0.71428529,\n",
       "       0.71528428, 0.71628328, 0.71728228, 0.71828128, 0.71928028,\n",
       "       0.72027928, 0.72127828, 0.72227728, 0.72327628, 0.72427528,\n",
       "       0.72527427, 0.72627327, 0.72727227, 0.72827127, 0.72927027,\n",
       "       0.73026927, 0.73126827, 0.73226727, 0.73326627, 0.73426527,\n",
       "       0.73526426, 0.73626326, 0.73726226, 0.73826126, 0.73926026,\n",
       "       0.74025926, 0.74125826, 0.74225726, 0.74325626, 0.74425526,\n",
       "       0.74525425, 0.74625325, 0.74725225, 0.74825125, 0.74925025,\n",
       "       0.75024925, 0.75124825, 0.75224725, 0.75324625, 0.75424525,\n",
       "       0.75524424, 0.75624324, 0.75724224, 0.75824124, 0.75924024,\n",
       "       0.76023924, 0.76123824, 0.76223724, 0.76323624, 0.76423524,\n",
       "       0.76523423, 0.76623323, 0.76723223, 0.76823123, 0.76923023,\n",
       "       0.77022923, 0.77122823, 0.77222723, 0.77322623, 0.77422523,\n",
       "       0.77522422, 0.77622322, 0.77722222, 0.77822122, 0.77922022,\n",
       "       0.78021922, 0.78121822, 0.78221722, 0.78321622, 0.78421522,\n",
       "       0.78521421, 0.78621321, 0.78721221, 0.78821121, 0.78921021,\n",
       "       0.79020921, 0.79120821, 0.79220721, 0.79320621, 0.79420521,\n",
       "       0.7952042 , 0.7962032 , 0.7972022 , 0.7982012 , 0.7992002 ,\n",
       "       0.8001992 , 0.8011982 , 0.8021972 , 0.8031962 , 0.8041952 ,\n",
       "       0.80519419, 0.80619319, 0.80719219, 0.80819119, 0.80919019,\n",
       "       0.81018919, 0.81118819, 0.81218719, 0.81318619, 0.81418519,\n",
       "       0.81518418, 0.81618318, 0.81718218, 0.81818118, 0.81918018,\n",
       "       0.82017918, 0.82117818, 0.82217718, 0.82317618, 0.82417518,\n",
       "       0.82517417, 0.82617317, 0.82717217, 0.82817117, 0.82917017,\n",
       "       0.83016917, 0.83116817, 0.83216717, 0.83316617, 0.83416517,\n",
       "       0.83516416, 0.83616316, 0.83716216, 0.83816116, 0.83916016,\n",
       "       0.84015916, 0.84115816, 0.84215716, 0.84315616, 0.84415516,\n",
       "       0.84515415, 0.84615315, 0.84715215, 0.84815115, 0.84915015,\n",
       "       0.85014915, 0.85114815, 0.85214715, 0.85314615, 0.85414515,\n",
       "       0.85514414, 0.85614314, 0.85714214, 0.85814114, 0.85914014,\n",
       "       0.86013914, 0.86113814, 0.86213714, 0.86313614, 0.86413514,\n",
       "       0.86513413, 0.86613313, 0.86713213, 0.86813113, 0.86913013,\n",
       "       0.87012913, 0.87112813, 0.87212713, 0.87312613, 0.87412513,\n",
       "       0.87512412, 0.87612312, 0.87712212, 0.87812112, 0.87912012,\n",
       "       0.88011912, 0.88111812, 0.88211712, 0.88311612, 0.88411512,\n",
       "       0.88511411, 0.88611311, 0.88711211, 0.88811111, 0.88911011,\n",
       "       0.89010911, 0.89110811, 0.89210711, 0.89310611, 0.89410511,\n",
       "       0.8951041 , 0.8961031 , 0.8971021 , 0.8981011 , 0.8991001 ,\n",
       "       0.9000991 , 0.9010981 , 0.9020971 , 0.9030961 , 0.9040951 ,\n",
       "       0.90509409, 0.90609309, 0.90709209, 0.90809109, 0.90909009,\n",
       "       0.91008909, 0.91108809, 0.91208709, 0.91308609, 0.91408509,\n",
       "       0.91508408, 0.91608308, 0.91708208, 0.91808108, 0.91908008,\n",
       "       0.92007908, 0.92107808, 0.92207708, 0.92307608, 0.92407508,\n",
       "       0.92507407, 0.92607307, 0.92707207, 0.92807107, 0.92907007,\n",
       "       0.93006907, 0.93106807, 0.93206707, 0.93306607, 0.93406507,\n",
       "       0.93506406, 0.93606306, 0.93706206, 0.93806106, 0.93906006,\n",
       "       0.94005906, 0.94105806, 0.94205706, 0.94305606, 0.94405506,\n",
       "       0.94505405, 0.94605305, 0.94705205, 0.94805105, 0.94905005,\n",
       "       0.95004905, 0.95104805, 0.95204705, 0.95304605, 0.95404505,\n",
       "       0.95504404, 0.95604304, 0.95704204, 0.95804104, 0.95904004,\n",
       "       0.96003904, 0.96103804, 0.96203704, 0.96303604, 0.96403504,\n",
       "       0.96503403, 0.96603303, 0.96703203, 0.96803103, 0.96903003,\n",
       "       0.97002903, 0.97102803, 0.97202703, 0.97302603, 0.97402503,\n",
       "       0.97502402, 0.97602302, 0.97702202, 0.97802102, 0.97902002,\n",
       "       0.98001902, 0.98101802, 0.98201702, 0.98301602, 0.98401502,\n",
       "       0.98501401, 0.98601301, 0.98701201, 0.98801101, 0.98901001,\n",
       "       0.99000901, 0.99100801, 0.99200701, 0.99300601, 0.99400501,\n",
       "       0.995004  , 0.996003  , 0.997002  , 0.998001  , 0.999     ])"
      ]
     },
     "execution_count": 59,
     "metadata": {},
     "output_type": "execute_result"
    }
   ],
   "source": [
    "p = np.linspace(0.001, 0.999, 1000)\n",
    "p"
   ]
  },
  {
   "cell_type": "code",
   "execution_count": null,
   "metadata": {},
   "outputs": [
    {
     "name": "stdout",
     "output_type": "stream",
     "text": [
      "[0.02281552 0.0416102  0.05889456 0.07519691 0.09076823 0.10575636\n",
      " 0.12025901 0.13434562 0.14806812 0.16146681 0.17457389 0.18741567\n",
      " 0.20001407 0.21238762 0.22455219 0.23652155 0.24830771 0.2599213\n",
      " 0.27137175 0.28266749 0.29381611 0.30482448 0.31569884 0.3264449\n",
      " 0.33706788 0.34757257 0.35796342 0.36824453 0.37841971 0.38849252\n",
      " 0.39846625 0.40834402 0.41812873 0.42782309 0.43742969 0.44695094\n",
      " 0.45638912 0.4657464  0.47502482 0.48422634 0.49335278 0.50240591\n",
      " 0.5113874  0.52029884 0.52914175 0.53791759 0.54662775 0.55527355\n",
      " 0.56385627 0.57237713 0.58083731 0.58923793 0.59758008 0.6058648\n",
      " 0.61409309 0.62226593 0.63038424 0.63844892 0.64646085 0.65442086\n",
      " 0.66232977 0.67018835 0.67799737 0.68575756 0.69346964 0.70113429\n",
      " 0.70875218 0.71632396 0.72385026 0.73133169 0.73876885 0.7461623\n",
      " 0.75351262 0.76082035 0.76808601 0.77531013 0.7824932  0.78963572\n",
      " 0.79673815 0.80380098 0.81082464 0.81780958 0.82475623 0.83166502\n",
      " 0.83853634 0.84537061 0.8521682  0.85892951 0.86565491 0.87234476\n",
      " 0.87899942 0.88561923 0.89220454 0.89875568 0.90527298 0.91175675\n",
      " 0.91820731 0.92462497 0.93101002 0.93736276 0.94368347 0.94997244\n",
      " 0.95622995 0.96245626 0.96865164 0.97481635 0.98095064 0.98705478\n",
      " 0.99312899 0.99917353 1.00518863 1.01117452 1.01713143 1.02305959\n",
      " 1.02895921 1.03483051 1.04067371 1.04648901 1.05227661 1.05803673\n",
      " 1.06376955 1.06947528 1.07515409 1.08080619 1.08643176 1.09203098\n",
      " 1.09760402 1.10315108 1.1086723  1.11416788 1.11963798 1.12508276\n",
      " 1.13050238 1.13589701 1.14126681 1.14661192 1.15193251 1.15722872\n",
      " 1.1625007  1.16774861 1.17297257 1.17817274 1.18334925 1.18850225\n",
      " 1.19363187 1.19873824 1.20382149 1.20888176 1.21391918 1.21893387\n",
      " 1.22392595 1.22889555 1.23384279 1.2387678  1.24367068 1.24855156\n",
      " 1.25341055 1.25824777 1.26306332 1.26785732 1.27262988 1.2773811\n",
      " 1.28211109 1.28681996 1.29150781 1.29617474 1.30082085 1.30544625\n",
      " 1.31005103 1.31463529 1.31919912 1.32374263 1.3282659  1.33276902\n",
      " 1.3372521  1.34171521 1.34615845 1.35058191 1.35498567 1.35936982\n",
      " 1.36373445 1.36807964 1.37240546 1.37671202 1.38099938 1.38526762\n",
      " 1.38951683 1.39374709 1.39795847 1.40215105 1.4063249  1.4104801\n",
      " 1.41461672 1.41873485 1.42283454 1.42691587 1.43097892 1.43502375\n",
      " 1.43905043 1.44305904 1.44704963 1.45102227 1.45497705 1.458914\n",
      " 1.46283322 1.46673475 1.47061866 1.47448501 1.47833388 1.48216531\n",
      " 1.48597937 1.48977612 1.49355562 1.49731793 1.50106311 1.50479121\n",
      " 1.5085023  1.51219643 1.51587365 1.51953403 1.52317761 1.52680445\n",
      " 1.53041461 1.53400814 1.53758509 1.54114551 1.54468946 1.54821699\n",
      " 1.55172815 1.55522298 1.55870155 1.56216389 1.56561006 1.5690401\n",
      " 1.57245407 1.57585201 1.57923397 1.58259999 1.58595012 1.58928441\n",
      " 1.5926029  1.59590564 1.59919267 1.60246404 1.60571978 1.60895994\n",
      " 1.61218457 1.61539371 1.61858739 1.62176567 1.62492858 1.62807616\n",
      " 1.63120845 1.6343255  1.63742734 1.64051401 1.64358555 1.646642\n",
      " 1.6496834  1.65270979 1.6557212  1.65871767 1.66169924 1.66466594\n",
      " 1.66761781 1.67055489 1.67347721 1.67638481 1.67927772 1.68215597\n",
      " 1.68501961 1.68786866 1.69070316 1.69352314 1.69632864 1.69911968\n",
      " 1.70189631 1.70465855 1.70740643 1.71013999 1.71285925 1.71556426\n",
      " 1.71825503 1.7209316  1.72359401 1.72624227 1.72887642 1.7314965\n",
      " 1.73410252 1.73669452 1.73927252 1.74183656 1.74438667 1.74692286\n",
      " 1.74944517 1.75195363 1.75444826 1.75692909 1.75939615 1.76184946\n",
      " 1.76428905 1.76671495 1.76912718 1.77152576 1.77391073 1.77628211\n",
      " 1.77863992 1.78098418 1.78331493 1.78563218 1.78793597 1.7902263\n",
      " 1.79250322 1.79476674 1.79701688 1.79925366 1.80147712 1.80368727\n",
      " 1.80588414 1.80806774 1.81023811 1.81239525 1.8145392  1.81666997\n",
      " 1.81878759 1.82089207 1.82298344 1.82506172 1.82712693 1.82917909\n",
      " 1.83121822 1.83324433 1.83525746 1.83725761 1.83924482 1.84121909\n",
      " 1.84318044 1.84512891 1.84706449 1.84898722 1.85089711 1.85279418\n",
      " 1.85467845 1.85654993 1.85840865 1.86025462 1.86208785 1.86390837\n",
      " 1.8657162  1.86751134 1.86929382 1.87106365 1.87282086 1.87456544\n",
      " 1.87629744 1.87801684 1.87972369 1.88141798 1.88309974 1.88476898\n",
      " 1.88642572 1.88806996 1.88970174 1.89132105 1.89292792 1.89452236\n",
      " 1.89610439 1.89767401 1.89923125 1.90077612 1.90230863 1.90382879\n",
      " 1.90533662 1.90683213 1.90831534 1.90978626 1.9112449  1.91269127\n",
      " 1.91412539 1.91554728 1.91695693 1.91835437 1.91973961 1.92111265\n",
      " 1.92247352 1.92382222 1.92515877 1.92648318 1.92779545 1.9290956\n",
      " 1.93038365 1.9316596  1.93292346 1.93417524 1.93541496 1.93664263\n",
      " 1.93785825 1.93906184 1.94025341 1.94143296 1.94260051 1.94375607\n",
      " 1.94489965 1.94603126 1.9471509  1.94825858 1.94935433 1.95043814\n",
      " 1.95151002 1.95256998 1.95361804 1.9546542  1.95567847 1.95669086\n",
      " 1.95769137 1.95868002 1.95965681 1.96062176 1.96157486 1.96251613\n",
      " 1.96344558 1.96436321 1.96526903 1.96616305 1.96704528 1.96791572\n",
      " 1.96877438 1.96962127 1.97045639 1.97127976 1.97209137 1.97289124\n",
      " 1.97367936 1.97445576 1.97522043 1.97597339 1.97671463 1.97744416\n",
      " 1.97816199 1.97886813 1.97956258 1.98024534 1.98091643 1.98157584\n",
      " 1.98222359 1.98285967 1.9834841  1.98409688 1.98469801 1.98528749\n",
      " 1.98586534 1.98643156 1.98698615 1.98752912 1.98806047 1.98858021\n",
      " 1.98908833 1.98958485 1.99006976 1.99054308 1.99100481 1.99145494\n",
      " 1.99189348 1.99232045 1.99273583 1.99313963 1.99353187 1.99391253\n",
      " 1.99428162 1.99463915 1.99498512 1.99531953 1.99564239 1.99595369\n",
      " 1.99625344 1.99654164 1.99681829 1.99708341 1.99733698 1.99757901\n",
      " 1.9978095  1.99802845 1.99823588 1.99843176 1.99861612 1.99878895\n",
      " 1.99895025 1.99910003 1.99923827 1.999365   1.9994802  1.99958388\n",
      " 1.99967603 1.99975667 1.99982578 1.99988337 1.99992945 1.999964\n",
      " 1.99998704 1.99999856 1.99999856 1.99998704 1.999964   1.99992945\n",
      " 1.99988337 1.99982578 1.99975667 1.99967603 1.99958388 1.9994802\n",
      " 1.999365   1.99923827 1.99910003 1.99895025 1.99878895 1.99861612\n",
      " 1.99843176 1.99823588 1.99802845 1.9978095  1.99757901 1.99733698\n",
      " 1.99708341 1.99681829 1.99654164 1.99625344 1.99595369 1.99564239\n",
      " 1.99531953 1.99498512 1.99463915 1.99428162 1.99391253 1.99353187\n",
      " 1.99313963 1.99273583 1.99232045 1.99189348 1.99145494 1.99100481\n",
      " 1.99054308 1.99006976 1.98958485 1.98908833 1.98858021 1.98806047\n",
      " 1.98752912 1.98698615 1.98643156 1.98586534 1.98528749 1.98469801\n",
      " 1.98409688 1.9834841  1.98285967 1.98222359 1.98157584 1.98091643\n",
      " 1.98024534 1.97956258 1.97886813 1.97816199 1.97744416 1.97671463\n",
      " 1.97597339 1.97522043 1.97445576 1.97367936 1.97289124 1.97209137\n",
      " 1.97127976 1.97045639 1.96962127 1.96877438 1.96791572 1.96704528\n",
      " 1.96616305 1.96526903 1.96436321 1.96344558 1.96251613 1.96157486\n",
      " 1.96062176 1.95965681 1.95868002 1.95769137 1.95669086 1.95567847\n",
      " 1.9546542  1.95361804 1.95256998 1.95151002 1.95043814 1.94935433\n",
      " 1.94825858 1.9471509  1.94603126 1.94489965 1.94375607 1.94260051\n",
      " 1.94143296 1.94025341 1.93906184 1.93785825 1.93664263 1.93541496\n",
      " 1.93417524 1.93292346 1.9316596  1.93038365 1.9290956  1.92779545\n",
      " 1.92648318 1.92515877 1.92382222 1.92247352 1.92111265 1.91973961\n",
      " 1.91835437 1.91695693 1.91554728 1.91412539 1.91269127 1.9112449\n",
      " 1.90978626 1.90831534 1.90683213 1.90533662 1.90382879 1.90230863\n",
      " 1.90077612 1.89923125 1.89767401 1.89610439 1.89452236 1.89292792\n",
      " 1.89132105 1.88970174 1.88806996 1.88642572 1.88476898 1.88309974\n",
      " 1.88141798 1.87972369 1.87801684 1.87629744 1.87456544 1.87282086\n",
      " 1.87106365 1.86929382 1.86751134 1.8657162  1.86390837 1.86208785\n",
      " 1.86025462 1.85840865 1.85654993 1.85467845 1.85279418 1.85089711\n",
      " 1.84898722 1.84706449 1.84512891 1.84318044 1.84121909 1.83924482\n",
      " 1.83725761 1.83525746 1.83324433 1.83121822 1.82917909 1.82712693\n",
      " 1.82506172 1.82298344 1.82089207 1.81878759 1.81666997 1.8145392\n",
      " 1.81239525 1.81023811 1.80806774 1.80588414 1.80368727 1.80147712\n",
      " 1.79925366 1.79701688 1.79476674 1.79250322 1.7902263  1.78793597\n",
      " 1.78563218 1.78331493 1.78098418 1.77863992 1.77628211 1.77391073\n",
      " 1.77152576 1.76912718 1.76671495 1.76428905 1.76184946 1.75939615\n",
      " 1.75692909 1.75444826 1.75195363 1.74944517 1.74692286 1.74438667\n",
      " 1.74183656 1.73927252 1.73669452 1.73410252 1.7314965  1.72887642\n",
      " 1.72624227 1.72359401 1.7209316  1.71825503 1.71556426 1.71285925\n",
      " 1.71013999 1.70740643 1.70465855 1.70189631 1.69911968 1.69632864\n",
      " 1.69352314 1.69070316 1.68786866 1.68501961 1.68215597 1.67927772\n",
      " 1.67638481 1.67347721 1.67055489 1.66761781 1.66466594 1.66169924\n",
      " 1.65871767 1.6557212  1.65270979 1.6496834  1.646642   1.64358555\n",
      " 1.64051401 1.63742734 1.6343255  1.63120845 1.62807616 1.62492858\n",
      " 1.62176567 1.61858739 1.61539371 1.61218457 1.60895994 1.60571978\n",
      " 1.60246404 1.59919267 1.59590564 1.5926029  1.58928441 1.58595012\n",
      " 1.58259999 1.57923397 1.57585201 1.57245407 1.5690401  1.56561006\n",
      " 1.56216389 1.55870155 1.55522298 1.55172815 1.54821699 1.54468946\n",
      " 1.54114551 1.53758509 1.53400814 1.53041461 1.52680445 1.52317761\n",
      " 1.51953403 1.51587365 1.51219643 1.5085023  1.50479121 1.50106311\n",
      " 1.49731793 1.49355562 1.48977612 1.48597937 1.48216531 1.47833388\n",
      " 1.47448501 1.47061866 1.46673475 1.46283322 1.458914   1.45497705\n",
      " 1.45102227 1.44704963 1.44305904 1.43905043 1.43502375 1.43097892\n",
      " 1.42691587 1.42283454 1.41873485 1.41461672 1.4104801  1.4063249\n",
      " 1.40215105 1.39795847 1.39374709 1.38951683 1.38526762 1.38099938\n",
      " 1.37671202 1.37240546 1.36807964 1.36373445 1.35936982 1.35498567\n",
      " 1.35058191 1.34615845 1.34171521 1.3372521  1.33276902 1.3282659\n",
      " 1.32374263 1.31919912 1.31463529 1.31005103 1.30544625 1.30082085\n",
      " 1.29617474 1.29150781 1.28681996 1.28211109 1.2773811  1.27262988\n",
      " 1.26785732 1.26306332 1.25824777 1.25341055 1.24855156 1.24367068\n",
      " 1.2387678  1.23384279 1.22889555 1.22392595 1.21893387 1.21391918\n",
      " 1.20888176 1.20382149 1.19873824 1.19363187 1.18850225 1.18334925\n",
      " 1.17817274 1.17297257 1.16774861 1.1625007  1.15722872 1.15193251\n",
      " 1.14661192 1.14126681 1.13589701 1.13050238 1.12508276 1.11963798\n",
      " 1.11416788 1.1086723  1.10315108 1.09760402 1.09203098 1.08643176\n",
      " 1.08080619 1.07515409 1.06947528 1.06376955 1.05803673 1.05227661\n",
      " 1.04648901 1.04067371 1.03483051 1.02895921 1.02305959 1.01713143\n",
      " 1.01117452 1.00518863 0.99917353 0.99312899 0.98705478 0.98095064\n",
      " 0.97481635 0.96865164 0.96245626 0.95622995 0.94997244 0.94368347\n",
      " 0.93736276 0.93101002 0.92462497 0.91820731 0.91175675 0.90527298\n",
      " 0.89875568 0.89220454 0.88561923 0.87899942 0.87234476 0.86565491\n",
      " 0.85892951 0.8521682  0.84537061 0.83853634 0.83166502 0.82475623\n",
      " 0.81780958 0.81082464 0.80380098 0.79673815 0.78963572 0.7824932\n",
      " 0.77531013 0.76808601 0.76082035 0.75351262 0.7461623  0.73876885\n",
      " 0.73133169 0.72385026 0.71632396 0.70875218 0.70113429 0.69346964\n",
      " 0.68575756 0.67799737 0.67018835 0.66232977 0.65442086 0.64646085\n",
      " 0.63844892 0.63038424 0.62226593 0.61409309 0.6058648  0.59758008\n",
      " 0.58923793 0.58083731 0.57237713 0.56385627 0.55527355 0.54662775\n",
      " 0.53791759 0.52914175 0.52029884 0.5113874  0.50240591 0.49335278\n",
      " 0.48422634 0.47502482 0.4657464  0.45638912 0.44695094 0.43742969\n",
      " 0.42782309 0.41812873 0.40834402 0.39846625 0.38849252 0.37841971\n",
      " 0.36824453 0.35796342 0.34757257 0.33706788 0.3264449  0.31569884\n",
      " 0.30482448 0.29381611 0.28266749 0.27137175 0.2599213  0.24830771\n",
      " 0.23652155 0.22455219 0.21238762 0.20001407 0.18741567 0.17457389\n",
      " 0.16146681 0.14806812 0.13434562 0.12025901 0.10575636 0.09076823\n",
      " 0.07519691 0.05889456 0.0416102  0.02281552]\n"
     ]
    }
   ],
   "source": [
    "entropy_values_two_coins = H(p)\n",
    "\n",
    "print(entropy_values_two_coins)"
   ]
  },
  {
   "cell_type": "code",
   "execution_count": null,
   "metadata": {},
   "outputs": [
    {
     "data": {
      "text/plain": [
       "Text(0.5, 1.0, 'The entropy of the total number of heads versus p.')"
      ]
     },
     "execution_count": 61,
     "metadata": {},
     "output_type": "execute_result"
    },
    {
     "data": {
      "image/png": "[encoded data removed]",
      "text/plain": [
       "<Figure size 600x600 with 1 Axes>"
      ]
     },
     "metadata": {},
     "output_type": "display_data"
    }
   ],
   "source": [
    "fig, ax =plt.subplots(figsize= (6, 6))\n",
    "\n",
    "xlabel = \"P Values\"\n",
    "ylabel = \"Entropy\"\n",
    "heading =\"The entropy of the total number of heads versus p.\"\n",
    "\n",
    "ax.plot(p, entropy_values_two_coins)\n",
    "ax.set_xlabel(xlabel)\n",
    "ax.set_ylabel(ylabel)\n",
    "ax.set_title(heading)"
   ]
  },
  {
   "cell_type": "markdown",
   "metadata": {},
   "source": [
    "# Task 5 - Plots\n",
    "\n",
    "Create an appropriate individual plot for each of the variables in\n",
    "the penguin data set"
   ]
  },
  {
   "cell_type": "code",
   "execution_count": 24,
   "metadata": {},
   "outputs": [
    {
     "data": {
      "text/html": [
       "<div>\n",
       "<style scoped>\n",
       "    .dataframe tbody tr th:only-of-type {\n",
       "        vertical-align: middle;\n",
       "    }\n",
       "\n",
       "    .dataframe tbody tr th {\n",
       "        vertical-align: top;\n",
       "    }\n",
       "\n",
       "    .dataframe thead th {\n",
       "        text-align: right;\n",
       "    }\n",
       "</style>\n",
       "<table border=\"1\" class=\"dataframe\">\n",
       "  <thead>\n",
       "    <tr style=\"text-align: right;\">\n",
       "      <th></th>\n",
       "      <th>species</th>\n",
       "      <th>island</th>\n",
       "      <th>bill_length_mm</th>\n",
       "      <th>bill_depth_mm</th>\n",
       "      <th>flipper_length_mm</th>\n",
       "      <th>body_mass_g</th>\n",
       "      <th>sex</th>\n",
       "    </tr>\n",
       "  </thead>\n",
       "  <tbody>\n",
       "    <tr>\n",
       "      <th>0</th>\n",
       "      <td>Adelie</td>\n",
       "      <td>Torgersen</td>\n",
       "      <td>39.1</td>\n",
       "      <td>18.7</td>\n",
       "      <td>181.0</td>\n",
       "      <td>3750.0</td>\n",
       "      <td>Male</td>\n",
       "    </tr>\n",
       "    <tr>\n",
       "      <th>1</th>\n",
       "      <td>Adelie</td>\n",
       "      <td>Torgersen</td>\n",
       "      <td>39.5</td>\n",
       "      <td>17.4</td>\n",
       "      <td>186.0</td>\n",
       "      <td>3800.0</td>\n",
       "      <td>Female</td>\n",
       "    </tr>\n",
       "    <tr>\n",
       "      <th>2</th>\n",
       "      <td>Adelie</td>\n",
       "      <td>Torgersen</td>\n",
       "      <td>40.3</td>\n",
       "      <td>18.0</td>\n",
       "      <td>195.0</td>\n",
       "      <td>3250.0</td>\n",
       "      <td>Female</td>\n",
       "    </tr>\n",
       "    <tr>\n",
       "      <th>3</th>\n",
       "      <td>Adelie</td>\n",
       "      <td>Torgersen</td>\n",
       "      <td>NaN</td>\n",
       "      <td>NaN</td>\n",
       "      <td>NaN</td>\n",
       "      <td>NaN</td>\n",
       "      <td>NaN</td>\n",
       "    </tr>\n",
       "    <tr>\n",
       "      <th>4</th>\n",
       "      <td>Adelie</td>\n",
       "      <td>Torgersen</td>\n",
       "      <td>36.7</td>\n",
       "      <td>19.3</td>\n",
       "      <td>193.0</td>\n",
       "      <td>3450.0</td>\n",
       "      <td>Female</td>\n",
       "    </tr>\n",
       "  </tbody>\n",
       "</table>\n",
       "</div>"
      ],
      "text/plain": [
       "  species     island  bill_length_mm  bill_depth_mm  flipper_length_mm  \\\n",
       "0  Adelie  Torgersen            39.1           18.7              181.0   \n",
       "1  Adelie  Torgersen            39.5           17.4              186.0   \n",
       "2  Adelie  Torgersen            40.3           18.0              195.0   \n",
       "3  Adelie  Torgersen             NaN            NaN                NaN   \n",
       "4  Adelie  Torgersen            36.7           19.3              193.0   \n",
       "\n",
       "   body_mass_g     sex  \n",
       "0       3750.0    Male  \n",
       "1       3800.0  Female  \n",
       "2       3250.0  Female  \n",
       "3          NaN     NaN  \n",
       "4       3450.0  Female  "
      ]
     },
     "execution_count": 24,
     "metadata": {},
     "output_type": "execute_result"
    }
   ],
   "source": [
    "# Review Dataset again\n",
    "\n",
    "penguins.head()"
   ]
  },
  {
   "cell_type": "markdown",
   "metadata": {},
   "source": [
    "As we covered in 'Task 2' the variables 'speices', 'island' and 'sex' are nominal categorical variables while the others are numeric variables."
   ]
  },
  {
   "cell_type": "code",
   "execution_count": null,
   "metadata": {},
   "outputs": [],
   "source": []
  },
  {
   "cell_type": "code",
   "execution_count": null,
   "metadata": {},
   "outputs": [],
   "source": []
  },
  {
   "cell_type": "code",
   "execution_count": null,
   "metadata": {},
   "outputs": [],
   "source": []
  },
  {
   "cell_type": "markdown",
   "metadata": {},
   "source": [
    "***\n",
    "\n",
    "## End"
   ]
  }
 ],
 "metadata": {
  "kernelspec": {
   "display_name": "base",
   "language": "python",
   "name": "python3"
  },
  "language_info": {
   "codemirror_mode": {
    "name": "ipython",
    "version": 3
   },
   "file_extension": ".py",
   "mimetype": "text/x-python",
   "name": "python",
   "nbconvert_exporter": "python",
   "pygments_lexer": "ipython3",
   "version": "3.11.5"
  }
 },
 "nbformat": 4,
 "nbformat_minor": 2
}
