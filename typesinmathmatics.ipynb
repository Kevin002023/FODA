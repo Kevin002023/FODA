{
 "cells": [
  {
   "cell_type": "markdown",
   "metadata": {},
   "source": [
    "## Types of Mathematics"
   ]
  },
  {
   "cell_type": "markdown",
   "metadata": {},
   "source": [
    "**Reals**\n",
    "\n",
    "$ \\mathbb{R} $\n",
    "\n",
    "![Real Number Line](https://upload.wikimedia.org/wikipedia/commons/thumb/d/d7/Real_number_line.svg/689px-Real_number_line.svg.png)"
   ]
  },
  {
   "cell_type": "markdown",
   "metadata": {},
   "source": [
    "**Integers**\n",
    "\n",
    "$\\mathbb{z} = \\{ \\ldots, -3, -2, -1, 0, 1, 2, 3, \\ldots \\}$"
   ]
  },
  {
   "cell_type": "markdown",
   "metadata": {},
   "source": [
    "** Rationals**\n",
    "\n",
    "$\\mathbb{Q} = \\{ \\frac{m}{n} | m,n \\in \\mathbb{Z}\\}$"
   ]
  },
  {
   "cell_type": "markdown",
   "metadata": {},
   "source": [
    "**Naturals**\n",
    "\n",
    "$\\mathbb{N} = \\{ 1, 2, 3, \\ldots \\}$\n",
    "\n",
    "$\\mathbb{N}_0 = \\{ 0, 1, 2, 3, \\ldots \\}$\n",
    "\n",
    "\n",
    "*An interesting fact about natural numbers*\n",
    "\n",
    "$\\mathbb{N} = \\{ 1, 2, 3, \\ldots \\}$\n",
    "\n",
    "$2\\mathbb{N} = \\{ 2, 4, 6, \\ldots \\}$\n",
    "\n",
    "Consider the *correspondence* between $\\mathbb{N}$ on the top line and $2\\mathbb{N}$ on the bottom line where:\n",
    "\n",
    "$f:\\mathbb{N} \\leftrightarrow 2 \\mathbb{N}: n \\leftrightarrow 2n$\n",
    "\n",
    "Each thing in $\\mathbb{N}$ corresponds to something in $2\\mathbb{N}$ and vice versa.\n",
    "\n",
    "Also, there is no overlap: the correspondence in btoh directions is unique"
   ]
  },
  {
   "cell_type": "markdown",
   "metadata": {},
   "source": [
    "**Complex Numbers**\n",
    "\n",
    "$ \\mathbb{C} = \\{a+ bi | a. b \\in \\mathbb{R}, i^2 = -1 \\}$ }"
   ]
  },
  {
   "cell_type": "code",
   "execution_count": null,
   "metadata": {},
   "outputs": [],
   "source": []
  }
 ],
 "metadata": {
  "kernelspec": {
   "display_name": "base",
   "language": "python",
   "name": "python3"
  },
  "language_info": {
   "codemirror_mode": {
    "name": "ipython",
    "version": 3
   },
   "file_extension": ".py",
   "mimetype": "text/x-python",
   "name": "python",
   "nbconvert_exporter": "python",
   "pygments_lexer": "ipython3",
   "version": "3.11.5"
  }
 },
 "nbformat": 4,
 "nbformat_minor": 2
}
